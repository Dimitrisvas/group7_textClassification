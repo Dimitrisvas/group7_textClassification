{
 "cells": [
  {
   "cell_type": "code",
   "execution_count": 1,
   "metadata": {},
   "outputs": [],
   "source": [
    "# Import modules\n",
    "import pandas as pd\n",
    "import gensim\n",
    "import spacy\n",
    "import nltk\n",
    "import pickle\n",
    "import numpy as np\n",
    "import keras\n",
    "import utils\n",
    "import tensorflow as tf\n",
    "# Pre-processing imports\n",
    "from nltk.corpus import stopwords\n",
    "from nltk.tokenize import word_tokenize\n",
    "from gensim.models import Phrases\n",
    "from gensim.models.phrases import Phraser\n",
    "from spacy.tokens import Doc, DocBin\n",
    "from tensorflow.keras.preprocessing.text import Tokenizer\n",
    "from tensorflow.keras.preprocessing.sequence import pad_sequences"
   ]
  },
  {
   "cell_type": "code",
   "execution_count": 2,
   "metadata": {},
   "outputs": [],
   "source": [
    "x_train = pickle.load(open(\"comment_lemma.pickle\", \"rb\"))"
   ]
  },
  {
   "cell_type": "code",
   "execution_count": 3,
   "metadata": {},
   "outputs": [],
   "source": [
    "num_words = 20000\n",
    "max_len = 80\n",
    "\n",
    "tokenizer = Tokenizer(num_words)\n",
    "tokenizer.fit_on_texts(x_train)\n",
    "corpus = tokenizer.word_index\n",
    "reverse_corpus = dict(map(reversed, corpus.items()))"
   ]
  },
  {
   "cell_type": "code",
   "execution_count": 4,
   "metadata": {},
   "outputs": [],
   "source": [
    "x_sequences_train = tokenizer.texts_to_sequences(x_train)\n",
    "x_padded_train = keras.preprocessing.sequence.pad_sequences(x_sequences_train, maxlen=max_len)\n",
    "x_padded_train = np.array(x_padded_train)"
   ]
  },
  {
   "cell_type": "code",
   "execution_count": 5,
   "metadata": {},
   "outputs": [],
   "source": [
    "y = pd.read_pickle('balanced_dataset.pickle')\n",
    "y = y.drop(columns=\"comment_text\")"
   ]
  },
  {
   "cell_type": "code",
   "execution_count": 6,
   "metadata": {},
   "outputs": [
    {
     "name": "stdout",
     "output_type": "stream",
     "text": [
      "Epoch 1/30\n",
      "119/119 [==============================] - 5s 40ms/step - loss: 0.5980 - accuracy: 0.3474\n",
      "Epoch 2/30\n",
      "119/119 [==============================] - 5s 40ms/step - loss: 0.5858 - accuracy: 0.3777\n",
      "Epoch 3/30\n",
      "119/119 [==============================] - 5s 40ms/step - loss: 0.5617 - accuracy: 0.4061\n",
      "Epoch 4/30\n",
      "119/119 [==============================] - 5s 40ms/step - loss: 0.5398 - accuracy: 0.4784\n",
      "Epoch 5/30\n",
      "119/119 [==============================] - 5s 40ms/step - loss: 0.5221 - accuracy: 0.4889\n",
      "Epoch 6/30\n",
      "119/119 [==============================] - 5s 40ms/step - loss: 0.5104 - accuracy: 0.4944\n",
      "Epoch 7/30\n",
      "119/119 [==============================] - 5s 40ms/step - loss: 0.5008 - accuracy: 0.4530\n",
      "Epoch 8/30\n",
      "119/119 [==============================] - 5s 40ms/step - loss: 0.4927 - accuracy: 0.4199\n",
      "Epoch 9/30\n",
      "119/119 [==============================] - 5s 40ms/step - loss: 0.4865 - accuracy: 0.3786\n",
      "Epoch 10/30\n",
      "119/119 [==============================] - 5s 40ms/step - loss: 0.4825 - accuracy: 0.3988\n",
      "Epoch 11/30\n",
      "119/119 [==============================] - 5s 41ms/step - loss: 0.4762 - accuracy: 0.3755\n",
      "Epoch 12/30\n",
      "119/119 [==============================] - 5s 40ms/step - loss: 0.4736 - accuracy: 0.3721\n",
      "Epoch 13/30\n",
      "119/119 [==============================] - 5s 40ms/step - loss: 0.4708 - accuracy: 0.3636\n",
      "Epoch 14/30\n",
      "119/119 [==============================] - 5s 40ms/step - loss: 0.4688 - accuracy: 0.3868\n",
      "Epoch 15/30\n",
      "119/119 [==============================] - 5s 40ms/step - loss: 0.4662 - accuracy: 0.4167\n",
      "Epoch 16/30\n",
      "119/119 [==============================] - 5s 40ms/step - loss: 0.4650 - accuracy: 0.4055\n",
      "Epoch 17/30\n",
      "119/119 [==============================] - 5s 40ms/step - loss: 0.4625 - accuracy: 0.4126\n",
      "Epoch 18/30\n",
      "119/119 [==============================] - 5s 41ms/step - loss: 0.4621 - accuracy: 0.3388\n",
      "Epoch 19/30\n",
      "119/119 [==============================] - 5s 41ms/step - loss: 0.4598 - accuracy: 0.3371\n",
      "Epoch 20/30\n",
      "119/119 [==============================] - 5s 41ms/step - loss: 0.4588 - accuracy: 0.3962\n",
      "Epoch 21/30\n",
      "119/119 [==============================] - 5s 40ms/step - loss: 0.4584 - accuracy: 0.3490\n",
      "Epoch 22/30\n",
      "119/119 [==============================] - 5s 40ms/step - loss: 0.4580 - accuracy: 0.3428\n",
      "Epoch 23/30\n",
      "119/119 [==============================] - 5s 40ms/step - loss: 0.4574 - accuracy: 0.3462\n",
      "Epoch 24/30\n",
      "119/119 [==============================] - 5s 41ms/step - loss: 0.4567 - accuracy: 0.3948\n",
      "Epoch 25/30\n",
      "119/119 [==============================] - 5s 40ms/step - loss: 0.4573 - accuracy: 0.4429\n",
      "Epoch 26/30\n",
      "119/119 [==============================] - 5s 42ms/step - loss: 0.4557 - accuracy: 0.3421\n",
      "Epoch 27/30\n",
      "119/119 [==============================] - 5s 44ms/step - loss: 0.4557 - accuracy: 0.3634\n",
      "Epoch 28/30\n",
      "119/119 [==============================] - 5s 45ms/step - loss: 0.4545 - accuracy: 0.4924\n",
      "Epoch 29/30\n",
      "119/119 [==============================] - 5s 45ms/step - loss: 0.4532 - accuracy: 0.6775\n",
      "Epoch 30/30\n",
      "119/119 [==============================] - 6s 49ms/step - loss: 0.4536 - accuracy: 0.6587\n"
     ]
    },
    {
     "data": {
      "text/plain": [
       "<tensorflow.python.keras.callbacks.History at 0x2aed38fc850>"
      ]
     },
     "execution_count": 6,
     "metadata": {},
     "output_type": "execute_result"
    }
   ],
   "source": [
    "model = utils.build_model(num_words)\n",
    "\n",
    "model.fit(x_padded_train, y, batch_size=60, epochs=30)"
   ]
  },
  {
   "cell_type": "code",
   "execution_count": 7,
   "metadata": {},
   "outputs": [
    {
     "name": "stdout",
     "output_type": "stream",
     "text": [
      "WARNING:tensorflow:From C:\\Users\\jimva\\.conda\\envs\\grp7_env\\lib\\site-packages\\tensorflow\\python\\training\\tracking\\tracking.py:111: Model.state_updates (from tensorflow.python.keras.engine.training) is deprecated and will be removed in a future version.\n",
      "Instructions for updating:\n",
      "This property should not be used in TensorFlow 2.0, as updates are applied automatically.\n",
      "WARNING:tensorflow:From C:\\Users\\jimva\\.conda\\envs\\grp7_env\\lib\\site-packages\\tensorflow\\python\\training\\tracking\\tracking.py:111: Layer.updates (from tensorflow.python.keras.engine.base_layer) is deprecated and will be removed in a future version.\n",
      "Instructions for updating:\n",
      "This property should not be used in TensorFlow 2.0, as updates are applied automatically.\n",
      "INFO:tensorflow:Assets written to: base_model\\assets\n"
     ]
    }
   ],
   "source": [
    "model.save('base_model')"
   ]
  },
  {
   "cell_type": "code",
   "execution_count": 8,
   "metadata": {},
   "outputs": [
    {
     "name": "stdout",
     "output_type": "stream",
     "text": [
      "Model: \"sequential\"\n",
      "_________________________________________________________________\n",
      "Layer (type)                 Output Shape              Param #   \n",
      "=================================================================\n",
      "embedding (Embedding)        (None, None, 128)         2560000   \n",
      "_________________________________________________________________\n",
      "dropout (Dropout)            (None, None, 128)         0         \n",
      "_________________________________________________________________\n",
      "conv1d (Conv1D)              (None, None, 128)         114816    \n",
      "_________________________________________________________________\n",
      "conv1d_1 (Conv1D)            (None, None, 128)         114816    \n",
      "_________________________________________________________________\n",
      "global_max_pooling1d (Global (None, 128)               0         \n",
      "_________________________________________________________________\n",
      "dense (Dense)                (None, 128)               16512     \n",
      "_________________________________________________________________\n",
      "dropout_1 (Dropout)          (None, 128)               0         \n",
      "_________________________________________________________________\n",
      "dense_1 (Dense)              (None, 6)                 774       \n",
      "=================================================================\n",
      "Total params: 2,806,918\n",
      "Trainable params: 2,806,918\n",
      "Non-trainable params: 0\n",
      "_________________________________________________________________\n"
     ]
    }
   ],
   "source": [
    "new_model = tf.keras.models.load_model('base_model')\n",
    "new_model.summary()"
   ]
  }
 ],
 "metadata": {
  "kernelspec": {
   "display_name": "Python 3",
   "language": "python",
   "name": "python3"
  },
  "language_info": {
   "codemirror_mode": {
    "name": "ipython",
    "version": 3
   },
   "file_extension": ".py",
   "mimetype": "text/x-python",
   "name": "python",
   "nbconvert_exporter": "python",
   "pygments_lexer": "ipython3",
   "version": "3.8.8"
  }
 },
 "nbformat": 4,
 "nbformat_minor": 4
}
