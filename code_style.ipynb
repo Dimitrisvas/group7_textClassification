{
 "cells": [
  {
   "cell_type": "code",
   "execution_count": 1,
   "id": "automatic-expansion",
   "metadata": {},
   "outputs": [],
   "source": [
    "# Import modules\n",
    "import pandas as pd\n",
    "from tabulate import tabulate"
   ]
  },
  {
   "cell_type": "code",
   "execution_count": 4,
   "id": "engaged-coordination",
   "metadata": {},
   "outputs": [
    {
     "output_type": "stream",
     "name": "stdout",
     "text": [
      "Model: \"sequential\"\n_________________________________________________________________\nLayer (type)                 Output Shape              Param #   \n=================================================================\nembedding (Embedding)        (None, None, 128)         2560000   \n_________________________________________________________________\ndropout (Dropout)            (None, None, 128)         0         \n_________________________________________________________________\nconv1d (Conv1D)              (None, None, 128)         114816    \n_________________________________________________________________\nconv1d_1 (Conv1D)            (None, None, 128)         114816    \n_________________________________________________________________\nglobal_max_pooling1d (Global (None, 128)               0         \n_________________________________________________________________\ndense (Dense)                (None, 128)               16512     \n_________________________________________________________________\ndropout_1 (Dropout)          (None, 128)               0         \n_________________________________________________________________\ndense_1 (Dense)              (None, 6)                 774       \n=================================================================\nTotal params: 2,806,918\nTrainable params: 2,806,918\nNon-trainable params: 0\n_________________________________________________________________\n"
     ]
    }
   ],
   "source": [
    "import utils\n",
    "model = utils.build_model(20000)\n",
    "model.summary()"
   ]
  },
  {
   "cell_type": "code",
   "execution_count": 5,
   "id": "cardiovascular-discipline",
   "metadata": {},
   "outputs": [],
   "source": [
    "from utils import read_datasets\n",
    "x, y = read_datasets()"
   ]
  },
  {
   "cell_type": "code",
   "execution_count": 6,
   "id": "pediatric-ground",
   "metadata": {},
   "outputs": [
    {
     "output_type": "stream",
     "name": "stdout",
     "text": [
      "                                          comment_text  toxic  severe_toxic  \\\n6         COCKSUCKER BEFORE YOU PISS AROUND ON MY WORK      1             1   \n42   You are gay or antisemmitian? \\n\\nArchangel WH...      1             0   \n55   Stupid peace of shit stop deleting my stuff as...      1             1   \n79   Hi! I am back again!\\nLast warning!\\nStop undo...      1             0   \n105         A pair of jew-hating weiner nazi schmucks.      1             0   \n\n     obscene  threat  insult  identity_hate  \n6          1       0       1              0  \n42         1       0       1              1  \n55         1       0       1              0  \n79         0       1       0              0  \n105        1       0       1              1  \n"
     ]
    }
   ],
   "source": [
    "print(x.head())"
   ]
  },
  {
   "cell_type": "code",
   "execution_count": 7,
   "id": "outdoor-roberts",
   "metadata": {},
   "outputs": [
    {
     "output_type": "stream",
     "name": "stderr",
     "text": [
      "[nltk_data] Downloading package averaged_perceptron_tagger to\n",
      "[nltk_data]     C:\\Users\\lamxw\\AppData\\Roaming\\nltk_data...\n",
      "[nltk_data]   Package averaged_perceptron_tagger is already up-to-\n",
      "[nltk_data]       date!\n",
      "['cocksucker', 'before', 'you', 'piss', 'around', 'on', 'my', 'work']\n",
      "Pre-processed data is in the form of comment_testname.pickle\n"
     ]
    }
   ],
   "source": [
    "from utils import preprocess_data\n",
    "preprocess_data(x)"
   ]
  },
  {
   "cell_type": "code",
   "execution_count": null,
   "id": "spare-material",
   "metadata": {},
   "outputs": [],
   "source": []
  }
 ],
 "metadata": {
  "kernelspec": {
   "display_name": "Python 3",
   "language": "python",
   "name": "python3"
  },
  "language_info": {
   "codemirror_mode": {
    "name": "ipython",
    "version": 3
   },
   "file_extension": ".py",
   "mimetype": "text/x-python",
   "name": "python",
   "nbconvert_exporter": "python",
   "pygments_lexer": "ipython3",
   "version": "3.8.8-final"
  }
 },
 "nbformat": 4,
 "nbformat_minor": 5
}