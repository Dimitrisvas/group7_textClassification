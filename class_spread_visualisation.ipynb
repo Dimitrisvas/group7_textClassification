{
 "metadata": {
  "language_info": {
   "codemirror_mode": {
    "name": "ipython",
    "version": 3
   },
   "file_extension": ".py",
   "mimetype": "text/x-python",
   "name": "python",
   "nbconvert_exporter": "python",
   "pygments_lexer": "ipython3",
   "version": "3.8.8-final"
  },
  "orig_nbformat": 2,
  "kernelspec": {
   "name": "python3",
   "display_name": "Python 3.8.8 64-bit",
   "metadata": {
    "interpreter": {
     "hash": "746eec4f0cf2bd2bd143a4eb10480580d722f553ed0fc03fc42076491106f879"
    }
   }
  }
 },
 "nbformat": 4,
 "nbformat_minor": 2,
 "cells": [
  {
   "source": [
    "Visualisation of class spread in dataset"
   ],
   "cell_type": "markdown",
   "metadata": {}
  },
  {
   "source": [
    "import pandas\n",
    "import utils\n",
    "x, y = utils.read_datasets()"
   ],
   "cell_type": "code",
   "metadata": {},
   "execution_count": 1,
   "outputs": []
  },
  {
   "cell_type": "code",
   "execution_count": 2,
   "metadata": {},
   "outputs": [],
   "source": [
    "import numpy as np\n",
    "import matplotlib.pyplot as plt\n",
    "%matplotlib inline\n",
    "\n",
    "histograms = {}\n",
    "\n",
    "for index in range(1,7):\n",
    "    histograms.update({x.iloc[:,index].name : np.histogram(x.iloc[:,index], bins=2)[0]})"
   ]
  },
  {
   "cell_type": "code",
   "execution_count": 3,
   "metadata": {},
   "outputs": [
    {
     "output_type": "execute_result",
     "data": {
      "text/plain": [
       "{'toxic': array([144277,  15294], dtype=int64),\n",
       " 'severe_toxic': array([157976,   1595], dtype=int64),\n",
       " 'obscene': array([151122,   8449], dtype=int64),\n",
       " 'threat': array([159093,    478], dtype=int64),\n",
       " 'insult': array([151694,   7877], dtype=int64),\n",
       " 'identity_hate': array([158166,   1405], dtype=int64)}"
      ]
     },
     "metadata": {},
     "execution_count": 3
    }
   ],
   "source": [
    "histograms"
   ]
  },
  {
   "cell_type": "code",
   "execution_count": 4,
   "metadata": {},
   "outputs": [
    {
     "output_type": "stream",
     "name": "stdout",
     "text": [
      "                                             comment_text  toxic  \\\n0       Explanation\\nWhy the edits made under my usern...      0   \n1       D'aww! He matches this background colour I'm s...      0   \n2       Hey man, I'm really not trying to edit war. It...      0   \n3       \"\\nMore\\nI can't make any real suggestions on ...      0   \n4       You, sir, are my hero. Any chance you remember...      0   \n...                                                   ...    ...   \n159566  \":::::And for the second time of asking, when ...      0   \n159567  You should be ashamed of yourself \\n\\nThat is ...      0   \n159568  Spitzer \\n\\nUmm, theres no actual article for ...      0   \n159569  And it looks like it was actually you who put ...      0   \n159570  \"\\nAnd ... I really don't think you understand...      0   \n\n        severe_toxic  obscene  threat  insult  identity_hate  \n0                  0        0       0       0              0  \n1                  0        0       0       0              0  \n2                  0        0       0       0              0  \n3                  0        0       0       0              0  \n4                  0        0       0       0              0  \n...              ...      ...     ...     ...            ...  \n159566             0        0       0       0              0  \n159567             0        0       0       0              0  \n159568             0        0       0       0              0  \n159569             0        0       0       0              0  \n159570             0        0       0       0              0  \n\n[143346 rows x 7 columns]\n"
     ]
    }
   ],
   "source": [
    "non_toxic = x[(x.toxic == 0) & (x.severe_toxic == 0) & (x.threat == 0) & (x.identity_hate == 0) & (x.obscene == 0) & (x.insult == 0)]\n",
    "print(non_toxic)"
   ]
  },
  {
   "cell_type": "code",
   "execution_count": 5,
   "metadata": {},
   "outputs": [
    {
     "output_type": "stream",
     "name": "stdout",
     "text": [
      "                                             comment_text  toxic  \\\n6            COCKSUCKER BEFORE YOU PISS AROUND ON MY WORK      1   \n12      Hey... what is it..\\n@ | talk .\\nWhat is it......      1   \n16      Bye! \\n\\nDon't look, come or think of comming ...      1   \n42      You are gay or antisemmitian? \\n\\nArchangel WH...      1   \n43               FUCK YOUR FILTHY MOTHER IN THE ASS, DRY!      1   \n...                                                   ...    ...   \n159494  \"\\n\\n our previous conversation \\n\\nyou fuckin...      1   \n159514                  YOU ARE A MISCHIEVIOUS PUBIC HAIR      1   \n159541  Your absurd edits \\n\\nYour absurd edits on gre...      1   \n159546  \"\\n\\nHey listen don't you ever!!!! Delete my e...      1   \n159554  and i'm going to keep posting the stuff u dele...      1   \n\n        severe_toxic  obscene  threat  insult  identity_hate  \n6                  1        1       0       1              0  \n12                 0        0       0       0              0  \n16                 0        0       0       0              0  \n42                 0        1       0       1              1  \n43                 0        1       0       1              0  \n...              ...      ...     ...     ...            ...  \n159494             0        1       0       1              1  \n159514             0        0       0       1              0  \n159541             0        1       0       1              0  \n159546             0        0       0       1              0  \n159554             0        1       0       1              0  \n\n[16225 rows x 7 columns]\n"
     ]
    }
   ],
   "source": [
    "toxic = x[(x.toxic == 1) | (x.severe_toxic == 1) | (x.threat == 1) | (x.identity_hate == 1) | (x.obscene == 1) | (x.insult == 1)]\n",
    "print(toxic)"
   ]
  }
 ]
}