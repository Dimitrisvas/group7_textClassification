{
 "metadata": {
  "language_info": {
   "codemirror_mode": {
    "name": "ipython",
    "version": 3
   },
   "file_extension": ".py",
   "mimetype": "text/x-python",
   "name": "python",
   "nbconvert_exporter": "python",
   "pygments_lexer": "ipython3",
   "version": "3.8.8-final"
  },
  "orig_nbformat": 2,
  "kernelspec": {
   "name": "python3",
   "display_name": "Python 3.8.8 64-bit ('grp7_env': conda)",
   "metadata": {
    "interpreter": {
     "hash": "746eec4f0cf2bd2bd143a4eb10480580d722f553ed0fc03fc42076491106f879"
    }
   }
  }
 },
 "nbformat": 4,
 "nbformat_minor": 2,
 "cells": [
  {
   "source": [
    "Visualisation of class spread in dataset"
   ],
   "cell_type": "markdown",
   "metadata": {}
  },
  {
   "source": [
    "import pandas\n",
    "TRAINING_SET = pandas.read_csv('train.csv')"
   ],
   "cell_type": "code",
   "metadata": {},
   "execution_count": 1,
   "outputs": []
  },
  {
   "cell_type": "code",
   "execution_count": 9,
   "metadata": {},
   "outputs": [],
   "source": [
    "import numpy as np\n",
    "import matplotlib.pyplot as plt\n",
    "%matplotlib inline\n",
    "\n",
    "histograms = {}\n",
    "\n",
    "for index in range(2,8):\n",
    "    #histograms.append(np.histogram(TRAINING_SET.iloc[:,index], bins=2))\n",
    "    histograms.update({TRAINING_SET.iloc[:,index].name : np.histogram(TRAINING_SET.iloc[:,index], bins=2)[0]})"
   ]
  },
  {
   "cell_type": "code",
   "execution_count": 10,
   "metadata": {},
   "outputs": [
    {
     "output_type": "execute_result",
     "data": {
      "text/plain": [
       "{'toxic': array([144277,  15294], dtype=int64),\n",
       " 'severe_toxic': array([157976,   1595], dtype=int64),\n",
       " 'obscene': array([151122,   8449], dtype=int64),\n",
       " 'threat': array([159093,    478], dtype=int64),\n",
       " 'insult': array([151694,   7877], dtype=int64),\n",
       " 'identity_hate': array([158166,   1405], dtype=int64)}"
      ]
     },
     "metadata": {},
     "execution_count": 10
    }
   ],
   "source": [
    "histograms"
   ]
  },
  {
   "cell_type": "code",
   "execution_count": null,
   "metadata": {},
   "outputs": [],
   "source": []
  }
 ]
}