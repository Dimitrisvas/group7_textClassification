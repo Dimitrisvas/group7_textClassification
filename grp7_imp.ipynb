{
 "cells": [
  {
   "cell_type": "code",
   "execution_count": 16,
   "metadata": {},
   "outputs": [],
   "source": [
    "# Import modules\n",
    "import pandas as pd"
   ]
  },
  {
   "cell_type": "code",
   "execution_count": 19,
   "metadata": {},
   "outputs": [],
   "source": [
    "# Constants\n",
    "DATASET = \"To.csv\" \n",
    "REDUNDANT_FIELDS = [\"Review_ID\",\"Year_Month\",\"Reviewer_Location\",\"Branch\"]\n",
    "SEMANTIC_LABELS = [\"Very Bad\", \"Bad\" ,\"Neutral\", \"Good\", \"Very Good\"]"
   ]
  },
  {
   "cell_type": "code",
   "execution_count": 18,
   "metadata": {},
   "outputs": [
    {
     "name": "stdout",
     "output_type": "stream",
     "text": [
      "   Rating                                        Review_Text\n",
      "0       4  If you've ever been to Disneyland anywhere you...\n",
      "1       4  Its been a while since d last time we visit HK...\n",
      "2       4  Thanks God it wasn   t too hot or too humid wh...\n",
      "3       4  HK Disneyland is a great compact park. Unfortu...\n",
      "4       4  the location is not in the city, took around 1...\n"
     ]
    }
   ],
   "source": [
    "# Read in data\n",
    "dataset = pd.read_csv(DATASET) \n",
    "\n",
    "# Remove unnecessary columns \n",
    "dataset = dataset.drop(columns=REDUNDANT_FIELDS)\n",
    "\n",
    "# Replace values in Rating field with semantic label,\n",
    "# eg. 5 --> \"Very Satisfied\"\n",
    "for x in range(0,5):\n",
    "    dataset = dataset.replace(to_replace)\n",
    "print(dataset[:5])"
   ]
  },
  {
   "cell_type": "code",
   "execution_count": null,
   "metadata": {},
   "outputs": [],
   "source": []
  }
 ],
 "metadata": {
  "kernelspec": {
   "display_name": "Python 3",
   "language": "python",
   "name": "python3"
  },
  "language_info": {
   "codemirror_mode": {
    "name": "ipython",
    "version": 3
   },
   "file_extension": ".py",
   "mimetype": "text/x-python",
   "name": "python",
   "nbconvert_exporter": "python",
   "pygments_lexer": "ipython3",
   "version": "3.8.5"
  }
 },
 "nbformat": 4,
 "nbformat_minor": 5
}
