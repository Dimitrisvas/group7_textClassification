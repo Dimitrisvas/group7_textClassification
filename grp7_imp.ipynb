{
 "cells": [
  {
   "cell_type": "code",
   "execution_count": 22,
   "id": "hollywood-acoustic",
   "metadata": {},
   "outputs": [],
   "source": [
    "# Import modules\n",
    "import pandas as pd\n",
    "from tabulate import tabulate"
   ]
  },
  {
   "cell_type": "code",
   "execution_count": 23,
   "id": "willing-excitement",
   "metadata": {},
   "outputs": [],
   "source": [
    "# Constants\n",
    "TRAIN_DATASET = \"train.csv\"\n",
    "TEST_DATA = \"test.csv\"\n",
    "TEST_LABELS = \"test_labels.csv\"\n",
    "DATA_FIELD = [\"id\",\"comment_text\"]\n",
    "LABEL_FIELDS = [\"id\",\"toxic\",\"severe_toxic\",\"obscene\",\"threat\",\"insult\",\"identity_hate\"]\n",
    "REDUNDANT_FIELDS = [\"id\"]"
   ]
  },
  {
   "cell_type": "code",
   "execution_count": 29,
   "id": "balanced-rebel",
   "metadata": {},
   "outputs": [
    {
     "name": "stdout",
     "output_type": "stream",
     "text": [
      "                                        comment_text  toxic  severe_toxic  \\\n",
      "0  Explanation\\r\\nWhy the edits made under my use...      0             0   \n",
      "1  D'aww! He matches this background colour I'm s...      0             0   \n",
      "2  Hey man, I'm really not trying to edit war. It...      0             0   \n",
      "3  \"\\r\\nMore\\r\\nI can't make any real suggestions...      0             0   \n",
      "4  You, sir, are my hero. Any chance you remember...      0             0   \n",
      "\n",
      "   obscene  threat  insult  identity_hate  \n",
      "0        0       0       0              0  \n",
      "1        0       0       0              0  \n",
      "2        0       0       0              0  \n",
      "3        0       0       0              0  \n",
      "4        0       0       0              0  \n"
     ]
    }
   ],
   "source": [
    "# Read in training dataset\n",
    "train_dataset = pd.read_csv(TRAIN_DATASET)\n",
    "\n",
    "# # Split training_data into x_train and y_train -- SAVE FOR LATER\n",
    "# x_train = training_data[DATA_FIELD]\n",
    "# y_train = training_data[LABEL_FIELDS]\n",
    "\n",
    "# Read in test data\n",
    "test_data = pd.read_csv(TEST_DATA)\n",
    "test_labels = pd.read_csv(TEST_LABELS)\n",
    "\n",
    "# Combine test data and labels into one data frame\n",
    "test_dataset = pd.concat([test_data, test_labels], axis=1)\n",
    "\n",
    "# Remove redundant id field from both datasets\n",
    "train_dataset = train_dataset.drop(columns=REDUNDANT_FIELDS)\n",
    "test_dataset = test_dataset.drop(columns=REDUNDANT_FIELDS)\n",
    "\n",
    "# Remove samples with labels containing -1 in test dataset, this \n",
    "# is a place holder for samples that were not assigned labels.\n",
    "test_dataset = test_dataset.drop(test_dataset[(test_dataset.toxic == -1) |\n",
    "                                              (test_dataset.severe_toxic == -1) |\n",
    "                                              (test_dataset.obscene == -1) |\n",
    "                                              (test_dataset.threat == -1) |\n",
    "                                              (test_dataset.insult == -1) |\n",
    "                                              (test_dataset.identity_hate == -1)].index)\n",
    "\n",
    "print(train_dataset.head())"
   ]
  },
  {
   "cell_type": "code",
   "execution_count": null,
   "id": "golden-hammer",
   "metadata": {},
   "outputs": [],
   "source": []
  },
  {
   "cell_type": "code",
   "execution_count": null,
   "id": "banner-shopper",
   "metadata": {},
   "outputs": [],
   "source": []
  }
 ],
 "metadata": {
  "kernelspec": {
   "display_name": "Python 3",
   "language": "python",
   "name": "python3"
  },
  "language_info": {
   "codemirror_mode": {
    "name": "ipython",
    "version": 3
   },
   "file_extension": ".py",
   "mimetype": "text/x-python",
   "name": "python",
   "nbconvert_exporter": "python",
   "pygments_lexer": "ipython3",
   "version": "3.8.8"
  }
 },
 "nbformat": 4,
 "nbformat_minor": 5
}
