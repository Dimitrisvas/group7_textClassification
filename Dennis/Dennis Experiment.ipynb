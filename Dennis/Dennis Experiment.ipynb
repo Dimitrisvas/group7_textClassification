{
 "cells": [
  {
   "cell_type": "markdown",
   "metadata": {},
   "source": [
    "# Individual Experimentation\n",
    "\n",
    "Name: Dennis Ocaka <br>\n",
    "Username: do00204  <br>\n",
    "URN: 6494685"
   ]
  },
  {
   "cell_type": "code",
   "execution_count": 86,
   "metadata": {},
   "outputs": [
    {
     "name": "stdout",
     "output_type": "stream",
     "text": [
      "Collecting pickle5\n",
      "  Downloading pickle5-0.0.11.tar.gz (132 kB)\n",
      "\u001b[K     |████████████████████████████████| 132 kB 3.7 MB/s eta 0:00:01\n",
      "\u001b[?25hBuilding wheels for collected packages: pickle5\n",
      "  Building wheel for pickle5 (setup.py) ... \u001b[?25ldone\n",
      "\u001b[?25h  Created wheel for pickle5: filename=pickle5-0.0.11-cp37-cp37m-linux_x86_64.whl size=243479 sha256=a909a87983357cfce1aaa486b82b67dafb93a3621acbec41cf11f21602d7a91a\n",
      "  Stored in directory: /home/dennis/.cache/pip/wheels/7e/6a/00/67136a90d6aca437d806d1d3cedf98106e840c97a3e5188198\n",
      "Successfully built pickle5\n",
      "Installing collected packages: pickle5\n",
      "Successfully installed pickle5-0.0.11\n"
     ]
    }
   ],
   "source": [
    "# Import Modules\n",
    "\n",
    "!pip install pickle5\n",
    "import pickle5 as pickle\n",
    "import pandas as pd\n",
    "import numpy as np\n",
    "import utils\n",
    "import keras\n",
    "import h5py\n",
    "import nltk\n",
    "from nltk.corpus import stopwords\n",
    "from sklearn.model_selection import RepeatedKFold\n",
    "from sklearn.model_selection import LeaveOneOut\n",
    "from sklearn.metrics import accuracy_score\n",
    "from tensorflow.keras.preprocessing.text import Tokenizer\n",
    "from tensorflow.keras.preprocessing.sequence import pad_sequences\n",
    "from keras.models import Sequential\n",
    "from keras.callbacks import EarlyStopping\n",
    "from keras.layers import Dense, Conv1D, Dropout, Conv1D, GlobalMaxPooling1D, Embedding, LSTM, SpatialDropout1D\n",
    "import matplotlib.pyplot as plt\n",
    "%matplotlib inline\n",
    "\n"
   ]
  },
  {
   "cell_type": "code",
   "execution_count": 83,
   "metadata": {},
   "outputs": [],
   "source": [
    "# Define Constants\n",
    "\n",
    "TRAIN_DATASET = \"train.csv\"\n",
    "TEST_DATA = \"test.csv\"\n",
    "TEST_LABELS = \"test_labels.csv\"\n",
    "REDUNDANT_FIELDS = [\"id\"]\n",
    "DATA_FIELD = [\"comment_text\"]\n",
    "LABEL_FIELDS = [\"toxic\",\"severe_toxic\",\"obscene\",\"threat\",\"insult\",\"identity_hate\"]\n",
    "\n",
    "\n",
    "# Datasets\n",
    "BALANCED_TRAIN_DATASET = \"balanced_dataset.pickle\"\n",
    "BALANCED_TEST_DATASET = \"balanced_test_dataset.pickle\""
   ]
  },
  {
   "cell_type": "markdown",
   "metadata": {},
   "source": [
    "# Read in data"
   ]
  },
  {
   "cell_type": "code",
   "execution_count": 98,
   "metadata": {},
   "outputs": [],
   "source": [
    "def load_pickle(file_path):\n",
    "    return pickle.load(open(file_path, \"rb\"))\n",
    "\n",
    "\n",
    "# Function to pickle final pre-processed data\n",
    "# Params: \n",
    "    # List - tokens that have been fully pre-processed\n",
    "    # Str - file name\n",
    "# Output: Pickle file in directory/repo \n",
    "def save_pickle(preprocessed, file_name):\n",
    "    pickle.dump(preprocessed, open(\"{0}.pickle\".format(file_name), \"wb\"))"
   ]
  },
  {
   "cell_type": "code",
   "execution_count": 102,
   "metadata": {
    "scrolled": true
   },
   "outputs": [],
   "source": [
    "# Balanced, unprocessed datasets\n",
    "bal_train_df = load_pickle(BALANCED_TRAIN_DATASET)\n",
    "bal_test_df = load_pickle(BALANCED_TEST_DATASET)"
   ]
  },
  {
   "cell_type": "code",
   "execution_count": 103,
   "metadata": {},
   "outputs": [],
   "source": [
    "# Read in training dataset\n",
    "train = pd.read_csv(TRAIN_DATASET)\n",
    "\n",
    "# Read in test data and labels\n",
    "test_data = pd.read_csv(TEST_DATA)\n",
    "test_labels = pd.read_csv(TEST_LABELS)\n",
    "\n",
    "# Combine test data and labels into one data frame\n",
    "test = pd.concat([test_data, test_labels], axis=1)\n",
    "\n",
    "# Remove redundant id field from both datasets\n",
    "train = train.drop(columns=REDUNDANT_FIELDS)\n",
    "test = test.drop(columns=REDUNDANT_FIELDS)\n",
    "\n",
    "# Remove samples with labels containing -1 in test dataset, this \n",
    "# is a place holder for samples that were not assigned labels.\n",
    "test = test.drop(test[(test.toxic == -1) |\n",
    "                      (test.severe_toxic == -1) |\n",
    "                      (test.obscene == -1) |\n",
    "                      (test.threat == -1) |\n",
    "                      (test.insult == -1) |\n",
    "                      (test.identity_hate == -1)].index)"
   ]
  },
  {
   "cell_type": "markdown",
   "metadata": {},
   "source": [
    "# Visualise Data"
   ]
  },
  {
   "cell_type": "code",
   "execution_count": 104,
   "metadata": {},
   "outputs": [
    {
     "data": {
      "image/png": "[encoded data removed]",
      "text/plain": [
       "<Figure size 432x288 with 1 Axes>"
      ]
     },
     "metadata": {},
     "output_type": "display_data"
    },
    {
     "data": {
      "text/plain": [
       "True"
      ]
     },
     "execution_count": 104,
     "metadata": {},
     "output_type": "execute_result"
    }
   ],
   "source": [
    "def visualise_data(data):\n",
    "\n",
    "    classes = {}\n",
    "\n",
    "    for index in range(1,7):\n",
    "        classes.update({data.iloc[:,index].name : np.histogram(data.iloc[:,index], bins=2)[0]})\n",
    "\n",
    "    labels = list(classes2.keys())\n",
    "    values = list(classes2.values())\n",
    "    data = [values[x][1] for x in range(0,len(values))]\n",
    "\n",
    "    plt.pie(data,labels=labels,autopct='%1.1f%%')\n",
    "    plt.title('Class Blanace')\n",
    "    plt.axis('equal')\n",
    "    plt.show()\n",
    "    \n",
    "    return True\n",
    "    \n",
    "    \n",
    "# Balanced Dataset\n",
    "visualise_data(train)"
   ]
  },
  {
   "cell_type": "markdown",
   "metadata": {},
   "source": [
    "# Normalise and Clean Data"
   ]
  },
  {
   "cell_type": "code",
   "execution_count": 6,
   "metadata": {},
   "outputs": [],
   "source": [
    "# Remove punctuation\n",
    "regex_str = \"[^a-zA-Z\\s]\"\n",
    "train['comment_text'] = train['comment_text'].replace(regex=regex_str, value=\"\")\n",
    "\n",
    "# Remove extra whitespaces\n",
    "regex_space = \"\\s+\"\n",
    "train['comment_text'] = train['comment_text'].replace(regex=regex_space, value=\" \")\n",
    "\n",
    "# Strip whitespaces\n",
    "train['comment_text'] = train['comment_text'].str.strip()\n",
    "\n",
    "# Lowercase\n",
    "train['comment_text'] = train['comment_text'].str.lower()\n",
    "\n",
    "# Convert comment_text column into a list\n",
    "comment_list = train['comment_text'].tolist()"
   ]
  },
  {
   "cell_type": "markdown",
   "metadata": {},
   "source": [
    "# Experiment 1\n",
    "\n",
    "Text Enrichment:\n",
    "\n",
    "Involves augmenting your original text data with information that you did not previously have. Text enrichment provides more semantics to your original text, therby improving its predictive power and the depth of analysis you can perform on your data.\n",
    "\n",
    "\n",
    "References:https://medium.com/opla/text-augmentation-for-machine-learning-tasks-how-to-grow-your-text-dataset-for-classification-38a9a207f88d\n",
    "\n",
    "\n",
    "# Technique 1: Synonym replacement\n",
    "\n",
    "This technique aims at replacing some words by their synonyms and expressions by their paraphrases."
   ]
  },
  {
   "cell_type": "code",
   "execution_count": 7,
   "metadata": {},
   "outputs": [],
   "source": [
    "from nltk import word_tokenize\n",
    "from nltk.corpus import stopwords\n",
    "from utils import read_datasets\n",
    "\n",
    "stoplist = stopwords.words('english')\n",
    "\n",
    "\n",
    "\n",
    "def get_synonyms_lexicon(path):\n",
    "    \n",
    "    \"Fetch set of synonyms from specified path directory \"\n",
    "    \n",
    "    synonyms_lexicon = {}\n",
    "    text_entries = [l.strip() for l in open(path).readlines()]\n",
    "    \n",
    "    for e in text_entries:\n",
    "        e = e.split(' ')\n",
    "        k = e[0]\n",
    "        v = e[1:len(e)]\n",
    "        synonyms_lexicon[k] = v\n",
    "        \n",
    "    return synonyms_lexicon\n",
    "\n",
    "\n",
    "def synonym_replacement(sentence, synonyms_lexicon):\n",
    "    \n",
    "    keys = synonyms_lexicon.keys()\n",
    "    words = word_tokenize(sentence)\n",
    "    n_sentence = sentence\n",
    "    for w in words:\n",
    "        if w not in stoplist:\n",
    "            if w in keys:\n",
    "                n_sentence = n_sentence.replace(w, synonyms_lexicon[w][0])  # we replace with the first synonym\n",
    "    return n_sentence\n",
    "\n",
    "\n"
   ]
  },
  {
   "cell_type": "markdown",
   "metadata": {},
   "source": [
    "We can now apply the synonym replacement to each comment, as the dataset does not contain a replacement for each comment not all comments will have variations."
   ]
  },
  {
   "cell_type": "code",
   "execution_count": 10,
   "metadata": {},
   "outputs": [],
   "source": [
    "synonyms_lexicon = get_synonyms_lexicon('./ppdb-xl.txt')\n",
    "\n",
    "new_train = list()\n",
    "\n",
    "\n",
    "# read in normalized train data\n",
    "for index, row in train.iterrows():\n",
    "\n",
    "    new_train.append(row)\n",
    "    text = row['comment_text']\n",
    "    augmented_row = row\n",
    "\n",
    "\n",
    "    augmented_row['comment_text'] = synonym_replacement(text, synonyms_lexicon)\n",
    "\n",
    "\n",
    "    if augmented_row['comment_text'] != text:\n",
    "        new_train.append(augmented_row)\n"
   ]
  },
  {
   "cell_type": "code",
   "execution_count": 17,
   "metadata": {},
   "outputs": [
    {
     "name": "stdout",
     "output_type": "stream",
     "text": [
      "Number of samples in original:  159571\n",
      "Number of samples in augmented:  286027\n"
     ]
    },
    {
     "data": {
      "image/png": "[encoded data removed]",
      "text/plain": [
       "<Figure size 432x288 with 1 Axes>"
      ]
     },
     "metadata": {},
     "output_type": "display_data"
    },
    {
     "data": {
      "text/plain": [
       "True"
      ]
     },
     "execution_count": 17,
     "metadata": {},
     "output_type": "execute_result"
    }
   ],
   "source": [
    "print(\"Number of samples in original: \", len(train))\n",
    "print(\"Number of samples in augmented: \", len(new_train))\n",
    "\n",
    "augmented_train = pd.DataFrame(new_train)\n",
    "\n",
    "visualise_data(augmented_train)"
   ]
  },
  {
   "cell_type": "markdown",
   "metadata": {},
   "source": [
    "# Technique 2: Word/sentence shuffling"
   ]
  },
  {
   "cell_type": "code",
   "execution_count": null,
   "metadata": {},
   "outputs": [],
   "source": [
    "from nltk import word_tokenize\n",
    "import random\n",
    "\n",
    "\n",
    "def shuffle(sen, n):\n",
    "    \n",
    "    # stores newly augmented sentences\n",
    "    new_sentences = []\n",
    "    # returns a list of tokenized words\n",
    "    words = word_tokenize(sen)\n",
    "    \n",
    "    for i in range(n):\n",
    "        random.shuffle(words)\n",
    "        new_sentences.append(' '.join(words))\n",
    "    # remove duplicates    \n",
    "    new_sentences = list(set(new_sentences))\n",
    "    \n",
    "    return new_sentences"
   ]
  },
  {
   "cell_type": "code",
   "execution_count": null,
   "metadata": {},
   "outputs": [],
   "source": [
    "shuffle_sen = shuffle(comment_list[1], 5)\n",
    "    \n",
    "new_train = list()\n",
    "inter = 5\n",
    "\n",
    "# read in normalized train data\n",
    "for index, row in train.iterrows():\n",
    "\n",
    "    new_train.append(row)\n",
    "    text = row['comment_text']\n",
    "    augmented_row = row\n",
    "\n",
    "    for i in range(inter):\n",
    "    augmented_row['comment_text'] = shuffle(text, 5)\n",
    "    \n",
    "    new_train.append(augmented_row)\n"
   ]
  },
  {
   "cell_type": "markdown",
   "metadata": {},
   "source": [
    "# Experiment 2 \n",
    "\n",
    "- Regularisation\n",
    "- l2 (wegiht decay, or ridge regression) adds a penalty for the complexity of a model\n",
    "- l1 makes the less important features to zero"
   ]
  },
  {
   "cell_type": "markdown",
   "metadata": {},
   "source": [
    "# Base model"
   ]
  },
  {
   "cell_type": "code",
   "execution_count": null,
   "metadata": {},
   "outputs": [],
   "source": [
    "# Train Base model\n",
    "\n",
    "model.fit(x_train, y_train, epochs=15, batch_size=60,  validation_data=(x_val, y_val))"
   ]
  },
  {
   "cell_type": "code",
   "execution_count": 77,
   "metadata": {},
   "outputs": [
    {
     "name": "stdout",
     "output_type": "stream",
     "text": [
      "Model: \"sequential_1\"\n",
      "_________________________________________________________________\n",
      "Layer (type)                 Output Shape              Param #   \n",
      "=================================================================\n",
      "embedding_1 (Embedding)      (None, None, 128)         2560000   \n",
      "_________________________________________________________________\n",
      "dropout_2 (Dropout)          (None, None, 128)         0         \n",
      "_________________________________________________________________\n",
      "conv1d_2 (Conv1D)            (None, None, 128)         114816    \n",
      "_________________________________________________________________\n",
      "conv1d_3 (Conv1D)            (None, None, 128)         114816    \n",
      "_________________________________________________________________\n",
      "global_max_pooling1d_1 (Glob (None, 128)               0         \n",
      "_________________________________________________________________\n",
      "dense_2 (Dense)              (None, 128)               16512     \n",
      "_________________________________________________________________\n",
      "dropout_3 (Dropout)          (None, 128)               0         \n",
      "_________________________________________________________________\n",
      "dense_3 (Dense)              (None, 6)                 774       \n",
      "=================================================================\n",
      "Total params: 2,806,918\n",
      "Trainable params: 2,806,918\n",
      "Non-trainable params: 0\n",
      "_________________________________________________________________\n"
     ]
    }
   ],
   "source": [
    "# Load in model\n",
    "import utils\n",
    "\n",
    "num_words = 20000\n",
    "max_len = 80\n",
    "\n",
    "model = utils.build_model(num_words)\n",
    "model.summary()"
   ]
  }
 ],
 "metadata": {
  "kernelspec": {
   "display_name": "Python 3",
   "language": "python",
   "name": "python3"
  },
  "language_info": {
   "codemirror_mode": {
    "name": "ipython",
    "version": 3
   },
   "file_extension": ".py",
   "mimetype": "text/x-python",
   "name": "python",
   "nbconvert_exporter": "python",
   "pygments_lexer": "ipython3",
   "version": "3.7.6"
  }
 },
 "nbformat": 4,
 "nbformat_minor": 4
}
