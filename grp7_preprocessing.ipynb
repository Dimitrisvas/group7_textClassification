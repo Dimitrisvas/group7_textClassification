{
 "cells": [
  {
   "cell_type": "code",
   "execution_count": 29,
   "id": "genetic-insulin",
   "metadata": {},
   "outputs": [],
   "source": [
    "# Import modules\n",
    "import pandas as pd\n",
    "import gensim\n",
    "import spacy\n",
    "import nltk\n",
    "import numpy as np\n",
    "# Pre-processing imports\n",
    "from nltk.corpus import stopwords\n",
    "from nltk.tokenize import word_tokenize\n",
    "from gensim.models import Phrases\n",
    "from gensim.models.phrases import Phraser\n",
    "from spacy.tokens import Doc, DocBin"
   ]
  },
  {
   "cell_type": "code",
   "execution_count": 2,
   "id": "interim-winter",
   "metadata": {},
   "outputs": [],
   "source": [
    "# Constants\n",
    "TRAIN_DATASET = \"train.csv\"\n",
    "TEST_DATA = \"test.csv\"\n",
    "TEST_LABELS = \"test_labels.csv\"\n",
    "DATA_FIELD = [\"comment_text\"]\n",
    "LABEL_FIELDS = [\"toxic\",\"severe_toxic\",\"obscene\",\"threat\",\"insult\",\"identity_hate\"]\n",
    "REDUNDANT_FIELDS = [\"id\"]\n",
    "STOP_WORDS = set(stopwords.words('english')) # Stopwords in English only\n"
   ]
  },
  {
   "cell_type": "code",
   "execution_count": 3,
   "id": "unavailable-simulation",
   "metadata": {},
   "outputs": [
    {
     "name": "stdout",
     "output_type": "stream",
     "text": [
      "                                        comment_text  toxic  severe_toxic  \\\n",
      "0  Explanation\\r\\nWhy the edits made under my use...      0             0   \n",
      "1  D'aww! He matches this background colour I'm s...      0             0   \n",
      "2  Hey man, I'm really not trying to edit war. It...      0             0   \n",
      "3  \"\\r\\nMore\\r\\nI can't make any real suggestions...      0             0   \n",
      "4  You, sir, are my hero. Any chance you remember...      0             0   \n",
      "\n",
      "   obscene  threat  insult  identity_hate  \n",
      "0        0       0       0              0  \n",
      "1        0       0       0              0  \n",
      "2        0       0       0              0  \n",
      "3        0       0       0              0  \n",
      "4        0       0       0              0  \n"
     ]
    }
   ],
   "source": [
    "# Read in training dataset\n",
    "train_dataset = pd.read_csv(TRAIN_DATASET)\n",
    "\n",
    "# # Split training_data into x_train and y_train -- SAVE FOR LATER\n",
    "# x_train = training_data[DATA_FIELD]\n",
    "# y_train = training_data[LABEL_FIELDS]\n",
    "\n",
    "# Read in test data\n",
    "test_data = pd.read_csv(TEST_DATA)\n",
    "test_labels = pd.read_csv(TEST_LABELS)\n",
    "\n",
    "# Combine test data and labels into one data frame\n",
    "test_dataset = pd.concat([test_data, test_labels], axis=1)\n",
    "\n",
    "# Remove redundant id field from both datasets\n",
    "train_dataset = train_dataset.drop(columns=REDUNDANT_FIELDS)\n",
    "test_dataset = test_dataset.drop(columns=REDUNDANT_FIELDS)\n",
    "\n",
    "# Remove samples with labels containing -1 in test dataset, this \n",
    "# is a place holder for samples that were not assigned labels.\n",
    "test_dataset = test_dataset.drop(test_dataset[(test_dataset.toxic == -1) |\n",
    "                                              (test_dataset.severe_toxic == -1) |\n",
    "                                              (test_dataset.obscene == -1) |\n",
    "                                              (test_dataset.threat == -1) |\n",
    "                                              (test_dataset.insult == -1) |\n",
    "                                              (test_dataset.identity_hate == -1)].index)\n",
    "\n",
    "print(train_dataset.head())"
   ]
  },
  {
   "cell_type": "code",
   "execution_count": 4,
   "id": "acute-steam",
   "metadata": {},
   "outputs": [],
   "source": [
    "# Remove punctuation (everything except letters and whitespaces)\n",
    "regex_str = \"[^a-zA-Z\\s]\"\n",
    "train_dataset['comment_text'] = train_dataset['comment_text'].replace(regex=regex_str, value=\"\")\n",
    "\n",
    "# Remove extra whitespaces\n",
    "regex_space = \"\\s+\"\n",
    "train_dataset['comment_text'] = train_dataset['comment_text'].replace(regex=regex_space, value=\" \")\n",
    "\n",
    "# Strip whitespaces\n",
    "train_dataset['comment_text'] = train_dataset['comment_text'].str.strip()\n",
    "\n",
    "# Lowercase\n",
    "train_dataset['comment_text'] = train_dataset['comment_text'].str.lower()\n",
    "#print(train_dataset['comment_text'].head())"
   ]
  },
  {
   "cell_type": "code",
   "execution_count": 5,
   "id": "stopped-forum",
   "metadata": {
    "tags": []
   },
   "outputs": [],
   "source": [
    "# Tokenize function\n",
    "def tokenize(text):\n",
    "    return [word_tokenize(word) for word in text]"
   ]
  },
  {
   "cell_type": "code",
   "execution_count": 49,
   "id": "governing-lyric",
   "metadata": {},
   "outputs": [],
   "source": [
    "# Convert comment_text column into a list\n",
    "comment_list = train_dataset['comment_text'].tolist()\n",
    "\n",
    "# Tokenize\n",
    "comment_token = tokenize(comment_list)"
   ]
  },
  {
   "cell_type": "code",
   "execution_count": 50,
   "id": "breathing-accommodation",
   "metadata": {},
   "outputs": [],
   "source": [
    "# Gensim N-grams\n",
    "# Create bigram model\n",
    "bigram = Phrases(comment_token, min_count=5, threshold=100)\n",
    "bigram_model = Phraser(bigram)"
   ]
  },
  {
   "cell_type": "code",
   "execution_count": 51,
   "id": "another-excerpt",
   "metadata": {
    "tags": []
   },
   "outputs": [],
   "source": [
    "# Remove stopwords\n",
    "comment_stop = [word for word in comment_list if word not in STOP_WORDS]\n",
    "\n",
    "# Tokenize stopwords removed\n",
    "comment_token_stop = tokenize(comment_stop)\n",
    "\n",
    "# Create Gensim n-grams\n",
    "comment_bigrams = [bigram_model[word] for word in comment_token_stop]"
   ]
  },
  {
   "cell_type": "code",
   "execution_count": 52,
   "id": "hungry-organic",
   "metadata": {},
   "outputs": [],
   "source": [
    "# Prepare bigrams for lemmatization\n",
    "# Initialize spacy\n",
    "nlp = spacy.load(\"en_core_web_sm\", disable=['tokenizer', 'parser', 'ner'])\n",
    "\n",
    "# Convert bigrams to string tokens\n",
    "# REDUNDANT WTFFFFFFFFFFFFFFFFFFFFFFFFFFFFFFFFFFFFFFFFFFFFFF\n",
    "#comment_str = [\"\".join(str(word)) for word in comment_bigrams]"
   ]
  },
  {
   "cell_type": "code",
   "execution_count": 53,
   "id": "loved-lloyd",
   "metadata": {},
   "outputs": [
    {
     "name": "stdout",
     "output_type": "stream",
     "text": [
      "[list(['explanation', 'why', 'the', 'edits', 'made', 'under', 'my', 'username', 'hardcore', 'metallica', 'fan', 'were', 'reverted', 'they', 'werent', 'vandalisms', 'just', 'closure', 'on', 'some', 'gas', 'after', 'i', 'voted', 'at', 'new', 'york', 'dolls', 'fac', 'and', 'please', 'dont', 'remove', 'the', 'template', 'from', 'the', 'talk', 'page', 'since', 'im', 'retired', 'now'])\n",
      " list(['daww', 'he', 'matches', 'this', 'background', 'colour', 'im', 'seemingly', 'stuck', 'with', 'thanks', 'talk', 'january', 'utc'])\n",
      " list(['hey', 'man', 'im', 'really', 'not', 'trying', 'to', 'edit', 'war', 'its', 'just', 'that', 'this', 'guy', 'is', 'constantly', 'removing', 'relevant', 'information', 'and', 'talking', 'to', 'me', 'through', 'edits', 'instead', 'of', 'my', 'talk', 'page', 'he', 'seems', 'to', 'care', 'more', 'about', 'the', 'formatting', 'than', 'the', 'actual', 'info'])\n",
      " ...\n",
      " list(['spitzer', 'umm', 'theres', 'no', 'actual', 'article', 'for', 'prostitution', 'ring', 'crunch', 'captain'])\n",
      " list(['and', 'it', 'looks', 'like', 'it', 'was', 'actually', 'you', 'who', 'put', 'on', 'the', 'speedy', 'to', 'have', 'the', 'first', 'version', 'deleted', 'now', 'that', 'i', 'look', 'at', 'it'])\n",
      " list(['and', 'i', 'really', 'dont', 'think', 'you', 'understand', 'i', 'came', 'here', 'and', 'my', 'idea', 'was', 'bad', 'right', 'away', 'what', 'kind', 'of', 'community', 'goes', 'you', 'have', 'bad', 'ideas', 'go', 'away', 'instead', 'of', 'helping', 'rewrite', 'them'])]\n"
     ]
    }
   ],
   "source": [
    "comment_token_stop = np.asarray(comment_token_stop)\n",
    "comment_token_stop = comment_token_stop.flatten()\n",
    "print(comment_token_stop)"
   ]
  },
  {
   "cell_type": "code",
   "execution_count": 54,
   "id": "incomplete-engineering",
   "metadata": {},
   "outputs": [
    {
     "name": "stdout",
     "output_type": "stream",
     "text": [
      "['explanation', 'why', 'the', 'edits', 'made', 'under', 'my', 'username', 'hardcore', 'metallica', 'fan', 'were', 'reverted', 'they', 'werent', 'vandalism', 'just', 'closure', 'on', 'some', 'gas', 'after', 'i', 'voted', 'at', 'new', 'york', 'doll', 'fac', 'and', 'please', 'dont', 'remove', 'the', 'template', 'from', 'the', 'talk', 'page', 'since', 'im', 'retired', 'now']\n"
     ]
    },
    {
     "name": "stderr",
     "output_type": "stream",
     "text": [
      "[nltk_data] Downloading package wordnet to\n",
      "[nltk_data]     C:\\Users\\vinal\\AppData\\Roaming\\nltk_data...\n",
      "[nltk_data]   Package wordnet is already up-to-date!\n"
     ]
    }
   ],
   "source": [
    "nltk.download('wordnet')\n",
    "from nltk.stem import WordNetLemmatizer\n",
    "\n",
    "lemmatizer = WordNetLemmatizer()\n",
    "stem_tokens = [lemmatizer.lemmatize(x) for x in comment_token_stop[0]]\n",
    "print(stem_tokens)"
   ]
  },
  {
   "cell_type": "code",
   "execution_count": 55,
   "id": "dependent-better",
   "metadata": {},
   "outputs": [],
   "source": [
    "from nltk.corpus import wordnet\n",
    "\n",
    "def get_wordnet_pos(word):\n",
    "    \"\"\"Map POS tag to first character lemmatize() accepts\"\"\"\n",
    "    tag = nltk.pos_tag([word])[0][1][0].upper()\n",
    "    # now we need to convert from nltk to wordnet POS notations (for compatibility reasons)\n",
    "    tag_dict = {\"J\": wordnet.ADJ,\n",
    "                \"N\": wordnet.NOUN,\n",
    "                \"V\": wordnet.VERB,\n",
    "                \"R\": wordnet.ADV}\n",
    "    return tag_dict.get(tag, wordnet.NOUN) # return and default to noun if not found"
   ]
  },
  {
   "cell_type": "code",
   "execution_count": 58,
   "id": "focal-pakistan",
   "metadata": {},
   "outputs": [
    {
     "name": "stdout",
     "output_type": "stream",
     "text": [
      "['explanation', 'why', 'the', 'edits', 'made', 'under', 'my', 'username', 'hardcore', 'metallica', 'fan', 'were', 'reverted', 'they', 'werent', 'vandalisms', 'just', 'closure', 'on', 'some', 'gas', 'after', 'i', 'voted', 'at', 'new', 'york', 'dolls', 'fac', 'and', 'please', 'dont', 'remove', 'the', 'template', 'from', 'the', 'talk', 'page', 'since', 'im', 'retired', 'now']\n"
     ]
    }
   ],
   "source": [
    "print(comment_token_stop[0])"
   ]
  },
  {
   "cell_type": "code",
   "execution_count": null,
   "id": "interpreted-visit",
   "metadata": {},
   "outputs": [
    {
     "name": "stderr",
     "output_type": "stream",
     "text": [
      "[nltk_data] Downloading package averaged_perceptron_tagger to\n",
      "[nltk_data]     C:\\Users\\vinal\\AppData\\Roaming\\nltk_data...\n",
      "[nltk_data]   Package averaged_perceptron_tagger is already up-to-\n",
      "[nltk_data]       date!\n"
     ]
    }
   ],
   "source": [
    "nltk.download('averaged_perceptron_tagger')\n",
    "comment_lemma = []\n",
    "for comment in comment_token_stop:\n",
    "    temp = []\n",
    "    temp.append([lemmatizer.lemmatize(word, pos=get_wordnet_pos(word)) for word in comment])\n",
    "    comment_lemma += temp\n",
    "print(comment_lemma)"
   ]
  },
  {
   "cell_type": "code",
   "execution_count": null,
   "id": "public-investing",
   "metadata": {
    "tags": []
   },
   "outputs": [],
   "source": [
    "print(comment_lemma[1])"
   ]
  },
  {
   "cell_type": "code",
   "execution_count": null,
   "id": "increasing-venezuela",
   "metadata": {},
   "outputs": [],
   "source": []
  }
 ],
 "metadata": {
  "kernelspec": {
   "display_name": "Python 3",
   "language": "python",
   "name": "python3"
  },
  "language_info": {
   "codemirror_mode": {
    "name": "ipython",
    "version": 3
   },
   "file_extension": ".py",
   "mimetype": "text/x-python",
   "name": "python",
   "nbconvert_exporter": "python",
   "pygments_lexer": "ipython3",
   "version": "3.8.8"
  }
 },
 "nbformat": 4,
 "nbformat_minor": 5
}
