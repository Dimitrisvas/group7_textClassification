{
 "cells": [
  {
   "cell_type": "code",
   "execution_count": 1,
   "id": "hollywood-acoustic",
   "metadata": {},
   "outputs": [],
   "source": [
    "# Import modules\n",
    "import pandas as pd\n",
    "from tabulate import tabulate\n",
    "# Pre-processing imports\n",
    "from nltk.corpus import stopwords\n",
    "from nltk.tokenize import word_tokenize\n",
    "from nltk.stem.porter import PorterStemmer"
   ]
  },
  {
   "cell_type": "code",
   "execution_count": 2,
   "id": "willing-excitement",
   "metadata": {},
   "outputs": [],
   "source": [
    "# Constants\n",
    "TRAIN_DATASET = \"train.csv\"\n",
    "TEST_DATA = \"test.csv\"\n",
    "TEST_LABELS = \"test_labels.csv\"\n",
    "DATA_FIELD = [\"id\",\"comment_text\"]\n",
    "LABEL_FIELDS = [\"id\",\"toxic\",\"severe_toxic\",\"obscene\",\"threat\",\"insult\",\"identity_hate\"]\n",
    "REDUNDANT_FIELDS = [\"id\"]\n",
    "STOP_WORDS = set(stopwords.words('english')) # Stopwords in English only"
   ]
  },
  {
   "cell_type": "code",
   "execution_count": 3,
   "id": "balanced-rebel",
   "metadata": {},
   "outputs": [
    {
     "output_type": "stream",
     "name": "stdout",
     "text": [
      "                                        comment_text  toxic  severe_toxic  \\\n0  Explanation\\r\\nWhy the edits made under my use...      0             0   \n1  D'aww! He matches this background colour I'm s...      0             0   \n2  Hey man, I'm really not trying to edit war. It...      0             0   \n3  \"\\r\\nMore\\r\\nI can't make any real suggestions...      0             0   \n4  You, sir, are my hero. Any chance you remember...      0             0   \n\n   obscene  threat  insult  identity_hate  \n0        0       0       0              0  \n1        0       0       0              0  \n2        0       0       0              0  \n3        0       0       0              0  \n4        0       0       0              0  \n"
     ]
    }
   ],
   "source": [
    "# Read in training dataset\n",
    "train_dataset = pd.read_csv(TRAIN_DATASET)\n",
    "\n",
    "# # Split training_data into x_train and y_train -- SAVE FOR LATER\n",
    "# x_train = training_data[DATA_FIELD]\n",
    "# y_train = training_data[LABEL_FIELDS]\n",
    "\n",
    "# Read in test data\n",
    "test_data = pd.read_csv(TEST_DATA)\n",
    "test_labels = pd.read_csv(TEST_LABELS)\n",
    "\n",
    "# Combine test data and labels into one data frame\n",
    "test_dataset = pd.concat([test_data, test_labels], axis=1)\n",
    "\n",
    "# Remove redundant id field from both datasets\n",
    "train_dataset = train_dataset.drop(columns=REDUNDANT_FIELDS)\n",
    "test_dataset = test_dataset.drop(columns=REDUNDANT_FIELDS)\n",
    "\n",
    "# Remove samples with labels containing -1 in test dataset, this \n",
    "# is a place holder for samples that were not assigned labels.\n",
    "test_dataset = test_dataset.drop(test_dataset[(test_dataset.toxic == -1) |\n",
    "                                              (test_dataset.severe_toxic == -1) |\n",
    "                                              (test_dataset.obscene == -1) |\n",
    "                                              (test_dataset.threat == -1) |\n",
    "                                              (test_dataset.insult == -1) |\n",
    "                                              (test_dataset.identity_hate == -1)].index)\n",
    "\n",
    "print(train_dataset.head())"
   ]
  },
  {
   "source": [
    "# Remove punctuation (everything except letters and whitespaces)\n",
    "regex_str = \"[^a-zA-Z\\s]\"\n",
    "train_dataset['comment_text'] = train_dataset['comment_text'].replace(regex=regex_str, value=\"\")\n",
    "\n",
    "# Remove extra whitespaces\n",
    "regex_space = \"\\s+\"\n",
    "train_dataset['comment_text'] = train_dataset['comment_text'].replace(regex=regex_space, value=\" \")\n",
    "\n",
    "# Strip whitespaces\n",
    "train_dataset['comment_text'] = train_dataset['comment_text'].str.strip()\n",
    "\n",
    "# Lowercase\n",
    "train_dataset['comment_text'] = train_dataset['comment_text'].str.lower()\n",
    "#print(train_dataset['comment_text'].head())"
   ],
   "cell_type": "code",
   "metadata": {},
   "execution_count": 4,
   "outputs": []
  },
  {
   "cell_type": "code",
   "execution_count": 5,
   "metadata": {},
   "outputs": [],
   "source": [
    "# Remove stopwords\n",
    "train_dataset['comment_text'] = train_dataset['comment_text'].apply(lambda x: ' '.join([word for word in x.split() if word not in (STOP_WORDS)]))\n",
    "\n",
    "# Tokenize\n",
    "train_dataset['comment_text'] = train_dataset['comment_text'].apply(word_tokenize)\n",
    "#print(train_dataset['comment_text'].head())"
   ]
  },
  {
   "cell_type": "code",
   "execution_count": 6,
   "metadata": {},
   "outputs": [],
   "source": [
    "porter = PorterStemmer()\n",
    "train_dataset['comment_text'] = train_dataset['comment_text'].apply(lambda x: [porter.stem(token) for token in x])"
   ]
  },
  {
   "cell_type": "code",
   "execution_count": null,
   "metadata": {},
   "outputs": [],
   "source": [
    "print(train_dataset['comment_text'].head())"
   ]
  },
  {
   "cell_type": "code",
   "execution_count": null,
   "metadata": {},
   "outputs": [],
   "source": []
  }
 ],
 "metadata": {
  "kernelspec": {
   "display_name": "Python 3",
   "language": "python",
   "name": "python3"
  },
  "language_info": {
   "codemirror_mode": {
    "name": "ipython",
    "version": 3
   },
   "file_extension": ".py",
   "mimetype": "text/x-python",
   "name": "python",
   "nbconvert_exporter": "python",
   "pygments_lexer": "ipython3",
   "version": "3.8.8-final"
  }
 },
 "nbformat": 4,
 "nbformat_minor": 5
}