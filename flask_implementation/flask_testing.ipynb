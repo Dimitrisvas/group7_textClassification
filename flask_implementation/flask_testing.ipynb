{
 "metadata": {
  "language_info": {
   "codemirror_mode": {
    "name": "ipython",
    "version": 3
   },
   "file_extension": ".py",
   "mimetype": "text/x-python",
   "name": "python",
   "nbconvert_exporter": "python",
   "pygments_lexer": "ipython3",
   "version": 3
  },
  "orig_nbformat": 2
 },
 "nbformat": 4,
 "nbformat_minor": 2,
 "cells": [
  {
   "source": [
    "# Task 4: Endpoint Testing\n",
    "In this notebook we will outline our process for completing Task 4, which concerns the testing of the model endpoint.\n",
    "\n",
    "In order to plan the testing required for this task, we decided to design tests around the basic features of the endpoint. The reasoning behind each test case as well as the aspect of the feature it tests will be explained as tests are introduced. It should be noted that for the purposes of this project, it was identified that testing specific UI elements such as buttons and links would not be required."
   ],
   "cell_type": "markdown",
   "metadata": {}
  },
  {
   "source": [
    "### Testing Methodology\n",
    "As testing UI elements is not required, each test will generally be performed by generating and sending HTTP requests to the endpoint, receiving and reading the endpoint's response, and validating its contents.\n",
    "\n",
    "It will be shown below that the process of performing each test is quite simple, with no logically or programmatically intensive solutions required to perform each test. For this reason, it was deemed that the more sophisticated, but more intensive testing solution provided within the **flask** library would not be used here. We will instead be using Python's own **requests** library, which is simpler to set up and install and easier to use. \n",
    "\n",
    "This does require, however, that an instance of the endpoint is already hosted locally, which is a drawback of opting to use the **requests** library."
   ],
   "cell_type": "markdown",
   "metadata": {}
  },
  {
   "source": [
    "###  Constant and Helper Function Definitions"
   ],
   "cell_type": "markdown",
   "metadata": {}
  },
  {
   "cell_type": "code",
   "execution_count": null,
   "metadata": {},
   "outputs": [],
   "source": [
    "import requests\n",
    "\n",
    "HOME_URL = 'http://localhost:5000/'\n",
    "\n",
    "COMMENT = \"flask testing\"\n",
    "\n",
    "def submit_comment(comment):\n",
    "    return requests.post(HOME_URL, data={\n",
    "        'comment_text': comment,\n",
    "        'formGroupExampleInput2':''\n",
    "    })\n",
    "\n",
    "def goto_predictions():\n",
    "    return requests.get(HOME_URL + 'predictions')\n",
    "\n",
    "def goto_comments():\n",
    "    return requests.get(HOME_URL + 'predictions')"
   ]
  },
  {
   "source": [
    "### Test Case 1: Submit a Comment\n",
    "\n",
    "The most basic, but most critical test is defined below. **predictions_test** forms and sends a POST request, which submits a comment to be predicted on, to the endpoint, and then GETs the Predictions page. The test is passed if the comment entered is present in the Predictions page, meaning it has been predicted on by the model, and fails if the comment is not present."
   ],
   "cell_type": "markdown",
   "metadata": {}
  },
  {
   "cell_type": "code",
   "execution_count": null,
   "metadata": {},
   "outputs": [],
   "source": [
    "def predictions_test(COMMENT):\n",
    "    passed = False\n",
    "    r = submit_comment(COMMENT)\n",
    "\n",
    "    r = goto_predictions()\n",
    "    if (COMMENT in r.text):\n",
    "        passed = True\n",
    "\n",
    "    return passed"
   ]
  },
  {
   "source": [
    "### Test Case 2: Database Stores Multiple Comments\n",
    "\n",
    "**comments_test** sends multiple POST requests submitting different comments. GETting the Comments page should include separate predictions for every comment sent. The test is passed if all of the comments entered are present in the Comments page, and fails if any of the comments are not present."
   ],
   "cell_type": "markdown",
   "metadata": {}
  },
  {
   "cell_type": "code",
   "execution_count": null,
   "metadata": {},
   "outputs": [],
   "source": [
    "def comments_test(COMMENT):\n",
    "    passed = False\n",
    "    COMMENTS = []\n",
    "\n",
    "    for i in range(3):\n",
    "        COMMENTS.append(f'{[i]}-{COMMENT}')\n",
    "        r = submit_comment(COMMENTS[i])\n",
    "    \n",
    "    r = goto_comments()\n",
    "    if ((COMMENTS[0] in r.text) & (COMMENTS[1] in r.text) & (COMMENTS[2] in r.text)):\n",
    "        passed = True\n",
    "\n",
    "    return passed"
   ]
  },
  {
   "source": [
    "### Test Case 3: Error When Submitting Empty Comment\n",
    "**error_test** is the final test case designed for the endpoint. This test sends a POST request to the endpoint without any comment_text defined. The test passes if the response contains the correct error message, and fails if it does not."
   ],
   "cell_type": "markdown",
   "metadata": {}
  },
  {
   "cell_type": "code",
   "execution_count": null,
   "metadata": {},
   "outputs": [],
   "source": [
    "def error_test():\n",
    "    passed = False\n",
    "\n",
    "    r = submit_comment(\"\")\n",
    "    if (\"Comment is required.\" in r.text):\n",
    "        passed = True\n",
    "\n",
    "    return passed"
   ]
  },
  {
   "source": [
    "### Test Run\n",
    "Note: the code below will run the tests on the endpoint, however the endpoint must already be running on localhost:5000"
   ],
   "cell_type": "markdown",
   "metadata": {}
  },
  {
   "cell_type": "code",
   "execution_count": null,
   "metadata": {},
   "outputs": [],
   "source": [
    "def run_tests(COMMENT):\n",
    "    count = 0\n",
    "    passed = []\n",
    "    passed.append(predictions_test(COMMENT))\n",
    "    if passed[0]:\n",
    "        print(\"Predictions Test Passed\")\n",
    "        count += 1\n",
    "    else:\n",
    "        print(\"Predictions Test Failed\")\n",
    "    passed.append(comments_test(COMMENT))\n",
    "    if passed[1]:\n",
    "        print(\"Comments Test Passed\")\n",
    "        count += 1\n",
    "    else:\n",
    "        print(\"Comments Test Failed\")\n",
    "    passed.append(error_test())\n",
    "    if passed[2]:\n",
    "        print(\"Error Test Passed\")\n",
    "        count += 1\n",
    "    else:\n",
    "        print(\"Error Test Failed!\")\n",
    "    print (f'Passed {count}/3 tests')\n",
    "\n",
    "run_tests(COMMENT)"
   ]
  }
 ]
}