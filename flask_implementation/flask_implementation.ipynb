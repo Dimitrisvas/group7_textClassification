{
 "metadata": {
  "language_info": {
   "codemirror_mode": {
    "name": "ipython",
    "version": 3
   },
   "file_extension": ".py",
   "mimetype": "text/x-python",
   "name": "python",
   "nbconvert_exporter": "python",
   "pygments_lexer": "ipython3",
   "version": "3.8.8"
  },
  "orig_nbformat": 2,
  "kernelspec": {
   "name": "python388jvsc74a57bd0c8de7daaf6551741ca0923be7e98795069d9a1942406e7e8abaf0a7da2ca837d",
   "display_name": "Python 3.8.8 64-bit ('grp7_env': conda)"
  }
 },
 "nbformat": 4,
 "nbformat_minor": 2,
 "cells": [
  {
   "cell_type": "code",
   "execution_count": 1,
   "metadata": {},
   "outputs": [],
   "source": [
    "import joblib\n",
    "import nltk\n",
    "import numpy as np\n",
    "import pandas as pd\n",
    "import pickle\n",
    "import sklearn\n",
    "import tensorflow as tf\n",
    "import matplotlib.pyplot as plt\n",
    "\n",
    "from tensorflow import keras"
   ]
  },
  {
   "cell_type": "code",
   "execution_count": 2,
   "metadata": {},
   "outputs": [],
   "source": [
    "# File paths\n",
    "\n",
    "# Multinomial Naive Bayes model file path\n",
    "MODEL_DIR = \"multi_mnb_model.joblib\"\n",
    "\n",
    "# Balanced datasets\n",
    "BALANCED_TRAIN_DATASET = \"../balanced_dataset.pickle\"\n",
    "BALANCED_TEST_DATASET = \"../balanced_test_dataset.pickle\"\n",
    "\n",
    "# Preprocessed balanced data\n",
    "PREPROCESSED_BAL_TRAIN_DATASET = \"../preprocessed_train.pickle\"\n",
    "PREPROCESSED_BAL_TEST_DATASET = \"../preprocessed_test.pickle\""
   ]
  },
  {
   "cell_type": "code",
   "execution_count": 3,
   "metadata": {},
   "outputs": [],
   "source": [
    "# Function to load pickle file\n",
    "# Params:\n",
    "    # Str - @file_path: File path of pickle file\n",
    "# Output:\n",
    "    # Saved object in original file type (list/dataframe)\n",
    "def load_pickle(file_path):\n",
    "    return pickle.load(open(file_path, \"rb\"))"
   ]
  },
  {
   "cell_type": "code",
   "execution_count": 4,
   "metadata": {},
   "outputs": [],
   "source": [
    "# Get preprocessed train dataset\n",
    "bal_train_dataset = load_pickle(PREPROCESSED_BAL_TRAIN_DATASET)\n",
    "\n",
    "# Get preprocessed test dataset\n",
    "bal_test_dataset = load_pickle(PREPROCESSED_BAL_TEST_DATASET)\n",
    "\n",
    "# Get train_y\n",
    "bal_train_y = pd.read_pickle(BALANCED_TRAIN_DATASET)\n",
    "bal_train_y = bal_train_y.drop(columns=\"comment_text\")\n",
    "\n",
    "# Get test_y\n",
    "bal_test_y = pd.read_pickle(BALANCED_TEST_DATASET)\n",
    "bal_test_y = bal_test_y.drop(columns=\"comment_text\")"
   ]
  },
  {
   "cell_type": "code",
   "execution_count": 5,
   "metadata": {},
   "outputs": [],
   "source": [
    "from sklearn.feature_extraction.text import TfidfVectorizer, TfidfTransformer, CountVectorizer\n",
    "from sklearn.naive_bayes import MultinomialNB\n",
    "from sklearn.multioutput import MultiOutputClassifier\n",
    "from sklearn.pipeline import Pipeline"
   ]
  },
  {
   "cell_type": "code",
   "execution_count": 6,
   "metadata": {},
   "outputs": [],
   "source": [
    "from functools import lru_cache\n",
    "from nltk.corpus import stopwords\n",
    "from nltk.corpus import wordnet\n",
    "from nltk.stem import WordNetLemmatizer\n",
    "from nltk.tokenize import word_tokenize"
   ]
  },
  {
   "cell_type": "code",
   "execution_count": 21,
   "metadata": {},
   "outputs": [],
   "source": [
    "# Dummy function for TfidfVectorizer tokenizer\n",
    "def fake_function(comments):\n",
    "    return comments\n",
    "\n",
    "# Pre-processing functions\n",
    "\n",
    "\n",
    "# Function to clean comments in dataset\n",
    "# Params: \n",
    "#   Pandas dataframe - @dataset: Data to be cleaned\n",
    "# Output: \n",
    "#   List    - @comment_list: Cleaned comments (2D List)\n",
    "def clean_data(dataset):\n",
    "\n",
    "    # Remove punctuation\n",
    "    regex_str = \"[^a-zA-Z\\s]\"\n",
    "    dataset['comment_text'] = dataset['comment_text'].replace(regex=regex_str, value=\"\")\n",
    "\n",
    "    # Remove extra whitespaces\n",
    "    regex_space = \"\\s+\"\n",
    "    dataset['comment_text'] = dataset['comment_text'].replace(regex=regex_space, value=\" \")\n",
    "\n",
    "    # Strip whitespaces\n",
    "    dataset['comment_text'] = dataset['comment_text'].str.strip()\n",
    "\n",
    "    # Lowercase\n",
    "    dataset['comment_text'] = dataset['comment_text'].str.lower()\n",
    "\n",
    "    # Convert comment_text column into a list\n",
    "    comment_list = dataset['comment_text'].tolist()\n",
    "\n",
    "    return comment_list\n",
    "\n",
    "# Function to get NLTK POS Tagger\n",
    "# Params: \n",
    "#   Str - @word: Token\n",
    "# Output\n",
    "#   Dict - POS tagger\n",
    "def nltk_get_wordnet_pos(word):\n",
    "    \n",
    "    tag = nltk.pos_tag([word])[0][1][0].upper()\n",
    "\n",
    "    # Convert NLTK to wordnet POS notations\n",
    "\n",
    "    tag_dict = {\"J\": wordnet.ADJ,\n",
    "                \"N\": wordnet.NOUN,\n",
    "                \"V\": wordnet.VERB,\n",
    "                \"R\": wordnet.ADV}\n",
    "\n",
    "    return tag_dict.get(tag, wordnet.NOUN) # Default to noun if not found\n",
    "\n",
    "# Function to use NLTK lemmatizer\n",
    "# Params: 2D List - Tokenized comments with stopwords removed\n",
    "# Returns: 2D List - lemmatized tokens\n",
    "def nltk_lemmatize(comment_stop):\n",
    "\n",
    "    nltk.download('averaged_perceptron_tagger')\n",
    "    comment_lemma = []\n",
    "    lemmatizer = WordNetLemmatizer()\n",
    "    lemmatizer_cache = lru_cache(maxsize=50000)(lemmatizer.lemmatize)\n",
    "\n",
    "    for comment in comment_stop:\n",
    "        temp = []\n",
    "        temp.append([lemmatizer_cache(word, pos=nltk_get_wordnet_pos(word)) for word in comment])\n",
    "        comment_lemma += temp\n",
    "\n",
    "    return comment_lemma\n",
    "\n",
    "# Function to remove NLTK stopwords\n",
    "# Params: \n",
    "#   2D List - @comment_token:   cleaned & tokenized comments\n",
    "# Output:\n",
    "#   2D List - @comment_stop: cleaned tokens with stopwords removed\n",
    "def nltk_stopwords(comment_token):\n",
    "    # Stopwords in English only\n",
    "    STOP_WORDS = set(stopwords.words('english'))\n",
    "\n",
    "    # Remove stopwords\n",
    "    comment_stop = []\n",
    "\n",
    "    for comment in comment_token:\n",
    "        \n",
    "        temp_word = []\n",
    "\n",
    "        for word in comment:\n",
    "            \n",
    "            if word not in STOP_WORDS:\n",
    "                temp_word.append(word)\n",
    "\n",
    "        comment_stop.append(temp_word)\n",
    "\n",
    "    return comment_stop\n",
    "\n",
    "# Function to tokenize comments using NLTK Word Tokenize\n",
    "# Params: \n",
    "#   2D List - @text: cleaned comments\n",
    "# Output: \n",
    "#   2D List - tokenized comments\n",
    "def nltk_tokenize(text):\n",
    "    return [word_tokenize(word) for word in text]\n",
    "\n",
    "# Function for all pre-processing functions without saving as pickle file\n",
    "# Params:\n",
    "#   List  - @dataset: Dataset to be pre-processed (train/test)\n",
    "# Output:\n",
    "#   List - @comments_list: Preprocessed tokens (2D List)\n",
    "def preprocess_data_without_pickle(dataset):\n",
    "\n",
    "    # Prevent re-running on already preprocessed data\n",
    "    if isinstance(dataset, pd.DataFrame): #if dataframe, data isn't preprocessed\n",
    "\n",
    "        comments_list, row_count = clean_data(dataset)\n",
    "        \n",
    "        # NLTK Tokenize\n",
    "        comments_list = nltk_tokenize(comments_list)\n",
    "\n",
    "        # Remove NLTK stopwords\n",
    "        comments_list = nltk_stopwords(comments_list)\n",
    "\n",
    "        # NLTK Lemmatization\n",
    "        comments_list = nltk_lemmatize(comments_list)\n",
    "        \n",
    "        return comments_list\n",
    "    \n",
    "    else:\n",
    "        return dataset"
   ]
  },
  {
   "cell_type": "code",
   "execution_count": 36,
   "metadata": {},
   "outputs": [
    {
     "output_type": "execute_result",
     "data": {
      "text/plain": [
       "Pipeline(steps=[('tfidf',\n",
       "                 TfidfVectorizer(min_df=5,\n",
       "                                 preprocessor=<function preprocess_data_without_pickle at 0x000001EA6AA70E50>,\n",
       "                                 sublinear_tf=True, token_pattern=None,\n",
       "                                 tokenizer=<function fake_function at 0x000001EA622E3790>)),\n",
       "                ('multi_mnb',\n",
       "                 MultiOutputClassifier(estimator=MultinomialNB(), n_jobs=-1))])"
      ]
     },
     "metadata": {},
     "execution_count": 36
    }
   ],
   "source": [
    "pipe = Pipeline([ \n",
    "    ('tfidf', TfidfVectorizer(\n",
    "        analyzer='word', \n",
    "        tokenizer=fake_function, \n",
    "        preprocessor=preprocess_data_without_pickle, \n",
    "        token_pattern=None,\n",
    "        min_df=5, \n",
    "        norm='l2', \n",
    "        smooth_idf=True, \n",
    "        sublinear_tf=True)), \n",
    "    ('multi_mnb', MultiOutputClassifier(MultinomialNB(), n_jobs=-1))\n",
    "    ])\n",
    "\n",
    "pipe.fit(bal_train_dataset, bal_train_y)"
   ]
  },
  {
   "cell_type": "code",
   "execution_count": 37,
   "metadata": {},
   "outputs": [
    {
     "output_type": "execute_result",
     "data": {
      "text/plain": [
       "['multi_mnb_model.joblib']"
      ]
     },
     "metadata": {},
     "execution_count": 37
    }
   ],
   "source": [
    "joblib.dump(pipe, 'multi_mnb_model.joblib', compress=1)"
   ]
  },
  {
   "cell_type": "code",
   "execution_count": 7,
   "metadata": {},
   "outputs": [],
   "source": [
    "pipe = joblib.load(MODEL_DIR)"
   ]
  },
  {
   "cell_type": "code",
   "execution_count": 39,
   "metadata": {},
   "outputs": [],
   "source": [
    "cols = ['comment_text','toxic','severe_toxic','obscene','threat','insult','identity_hate']"
   ]
  },
  {
   "cell_type": "code",
   "execution_count": 40,
   "metadata": {},
   "outputs": [],
   "source": [
    "# convert to df to feed into pipeline\n",
    "def convert_for_pred(comment):\n",
    "\n",
    "    temp_df = pd.DataFrame(columns=cols)\n",
    "\n",
    "    new_row = {'comment_text':comment}\n",
    "\n",
    "    for i in range(len(labels)):\n",
    "        new_row[labels[i]] = 0\n",
    "\n",
    "    temp_df = temp_df.append(new_row, ignore_index=True)\n",
    "\n",
    "    return temp_df"
   ]
  },
  {
   "cell_type": "code",
   "execution_count": 29,
   "metadata": {},
   "outputs": [],
   "source": [
    "df = pd.DataFrame(columns=['comment_text','toxic','severe_toxic','obscene','threat','insult','identity_hate'])\n",
    "labels = ['toxic','severe_toxic','obscene','threat','insult','identity_hate']"
   ]
  },
  {
   "cell_type": "code",
   "execution_count": 41,
   "metadata": {},
   "outputs": [
    {
     "output_type": "stream",
     "name": "stdout",
     "text": [
      "       comment_text toxic severe_toxic obscene threat insult identity_hate\n",
      "0  sad fuck two a b     0            0       0      0      0             0\n",
      "a [['sad', 'fuck', 'two', 'b']]\n",
      "[nltk_data] Downloading package averaged_perceptron_tagger to\n",
      "[nltk_data]     C:\\Users\\lamxw\\AppData\\Roaming\\nltk_data...\n",
      "[nltk_data]   Package averaged_perceptron_tagger is already up-to-\n",
      "[nltk_data]       date!\n"
     ]
    }
   ],
   "source": [
    "test = \"sad fuck two a b\"\n",
    "\n",
    "comment = convert_for_pred(test)\n",
    "print(comment)\n",
    "print(\"a\", preprocess_data_without_pickle(comment))"
   ]
  },
  {
   "cell_type": "code",
   "execution_count": 26,
   "metadata": {},
   "outputs": [
    {
     "output_type": "stream",
     "name": "stdout",
     "text": [
      "       comment_text toxic severe_toxic obscene threat insult identity_hate\n0  sad fuck two a b     0            0       0      0      0             0\n"
     ]
    }
   ],
   "source": [
    "print(comment)"
   ]
  },
  {
   "cell_type": "code",
   "execution_count": 28,
   "metadata": {},
   "outputs": [
    {
     "output_type": "stream",
     "name": "stdout",
     "text": [
      "[[1, 0, 1, 0, 1, 0]]\n"
     ]
    }
   ],
   "source": [
    "print(pipe.predict(comment['comment_text']).tolist())"
   ]
  },
  {
   "cell_type": "code",
   "execution_count": 38,
   "metadata": {},
   "outputs": [
    {
     "output_type": "stream",
     "name": "stdout",
     "text": [
      "[[1, 0, 1, 0, 1, 0]]\n"
     ]
    }
   ],
   "source": [
    "prediction = pipe.predict(comment['comment_text']).tolist()\n",
    "print(prediction)"
   ]
  },
  {
   "cell_type": "code",
   "execution_count": 33,
   "metadata": {},
   "outputs": [
    {
     "output_type": "stream",
     "name": "stdout",
     "text": [
      "[1, 0, 1, 0, 1, 0]\n"
     ]
    }
   ],
   "source": [
    "print(prediction[0])"
   ]
  },
  {
   "cell_type": "code",
   "execution_count": 35,
   "metadata": {},
   "outputs": [
    {
     "output_type": "stream",
     "name": "stdout",
     "text": [
      "                                        comment_text toxic severe_toxic  \\\n0         comment_text toxic severe_toxic obscene...     1            0   \n\n  obscene threat insult identity_hate  \n0       1      0      1             0  \n"
     ]
    }
   ],
   "source": [
    "new_row = {'comment_text':comment}\n",
    "\n",
    "for i in range(len(labels)):\n",
    "    new_row[labels[i]] = prediction[0][i]\n",
    "\n",
    "    #append row to the dataframe\n",
    "df = df.append(new_row, ignore_index=True)\n",
    "print(df)"
   ]
  },
  {
   "cell_type": "code",
   "execution_count": 25,
   "metadata": {},
   "outputs": [
    {
     "output_type": "stream",
     "name": "stdout",
     "text": [
      "[[1, 1, 1, 0, 1, 0], [1, 0, 1, 0, 1, 1]]\n"
     ]
    }
   ],
   "source": [
    "y_pred = pipe.predict(bal_test_dataset[:2])\n",
    "print(y_pred.tolist())"
   ]
  },
  {
   "cell_type": "code",
   "execution_count": null,
   "metadata": {},
   "outputs": [],
   "source": []
  }
 ]
}