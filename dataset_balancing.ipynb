{
 "metadata": {
  "language_info": {
   "codemirror_mode": {
    "name": "ipython",
    "version": 3
   },
   "file_extension": ".py",
   "mimetype": "text/x-python",
   "name": "python",
   "nbconvert_exporter": "python",
   "pygments_lexer": "ipython3",
   "version": "3.8.8-final"
  },
  "orig_nbformat": 2,
  "kernelspec": {
   "name": "python3",
   "display_name": "Python 3.8.8 64-bit ('grp7_env': conda)",
   "metadata": {
    "interpreter": {
     "hash": "746eec4f0cf2bd2bd143a4eb10480580d722f553ed0fc03fc42076491106f879"
    }
   }
  }
 },
 "nbformat": 4,
 "nbformat_minor": 2,
 "cells": [
  {
   "cell_type": "code",
   "execution_count": 1,
   "metadata": {},
   "outputs": [],
   "source": [
    "from utils import read_datasets\n",
    "x, y = read_datasets()"
   ]
  },
  {
   "cell_type": "code",
   "execution_count": 2,
   "metadata": {},
   "outputs": [],
   "source": [
    "x = x.drop(x[(x.toxic == 1) & (x.severe_toxic != 1) & (x.threat != 1) & (x.identity_hate != 1)].index[:13000])"
   ]
  },
  {
   "cell_type": "code",
   "execution_count": 3,
   "metadata": {},
   "outputs": [],
   "source": [
    "x = x.drop(x[(x.toxic == 0) & (x.severe_toxic == 0) & (x.threat == 0) & (x.identity_hate == 0) & (x.obscene == 0) & (x.insult == 0)].index[:140000])"
   ]
  },
  {
   "cell_type": "code",
   "execution_count": 4,
   "metadata": {},
   "outputs": [
    {
     "output_type": "stream",
     "name": "stdout",
     "text": [
      "comment_text     3786\ntoxic            3786\nsevere_toxic     3786\nobscene          3786\nthreat           3786\ninsult           3786\nidentity_hate    3786\ndtype: int64\n"
     ]
    }
   ],
   "source": [
    "toxic = x[(x.toxic == 1) | (x.severe_toxic == 1) | (x.threat == 1) | (x.identity_hate == 1) | (x.obscene == 1) | (x.insult == 1)]\n",
    "print(toxic.count())"
   ]
  },
  {
   "cell_type": "code",
   "execution_count": 5,
   "metadata": {},
   "outputs": [
    {
     "output_type": "stream",
     "name": "stdout",
     "text": [
      "comment_text     3346\ntoxic            3346\nsevere_toxic     3346\nobscene          3346\nthreat           3346\ninsult           3346\nidentity_hate    3346\ndtype: int64\n"
     ]
    }
   ],
   "source": [
    "non_toxic = x[(x.toxic == 0) & (x.severe_toxic == 0) & (x.threat == 0) & (x.identity_hate == 0) & (x.obscene == 0) & (x.insult == 0)]\n",
    "print(non_toxic.count())"
   ]
  },
  {
   "cell_type": "code",
   "execution_count": 6,
   "metadata": {},
   "outputs": [
    {
     "output_type": "stream",
     "name": "stdout",
     "text": [
      "{'toxic': array([4277, 2855], dtype=int64), 'severe_toxic': array([5537, 1595], dtype=int64), 'obscene': array([4241, 2891], dtype=int64), 'threat': array([6654,  478], dtype=int64), 'insult': array([4270, 2862], dtype=int64), 'identity_hate': array([5727, 1405], dtype=int64)}\n"
     ]
    }
   ],
   "source": [
    "import numpy as np\n",
    "import matplotlib.pyplot as plt\n",
    "%matplotlib inline\n",
    "\n",
    "histograms = {}\n",
    "\n",
    "for index in range(1,7):\n",
    "    histograms.update({x.iloc[:,index].name : np.histogram(x.iloc[:,index], bins=2)[0]})"
   ]
  },
  {
   "cell_type": "code",
   "execution_count": 7,
   "metadata": {},
   "outputs": [
    {
     "output_type": "execute_result",
     "data": {
      "text/plain": [
       "{'toxic': array([4277, 2855], dtype=int64),\n",
       " 'severe_toxic': array([5537, 1595], dtype=int64),\n",
       " 'obscene': array([4241, 2891], dtype=int64),\n",
       " 'threat': array([6654,  478], dtype=int64),\n",
       " 'insult': array([4270, 2862], dtype=int64),\n",
       " 'identity_hate': array([5727, 1405], dtype=int64)}"
      ]
     },
     "metadata": {},
     "execution_count": 7
    }
   ],
   "source": [
    "histograms"
   ]
  },
  {
   "cell_type": "code",
   "execution_count": 9,
   "metadata": {},
   "outputs": [],
   "source": [
    "x.to_pickle(\"balanced_dataset.pickle\",compression=None)"
   ]
  },
  {
   "cell_type": "code",
   "execution_count": null,
   "metadata": {},
   "outputs": [],
   "source": []
  }
 ]
}