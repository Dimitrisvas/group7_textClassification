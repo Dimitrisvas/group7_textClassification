{
 "cells": [
  {
   "cell_type": "code",
   "execution_count": 1,
   "metadata": {},
   "outputs": [],
   "source": [
    "from utils import read_datasets\n",
    "x_train, x_test = read_datasets()"
   ]
  },
  {
   "cell_type": "code",
   "execution_count": 10,
   "metadata": {},
   "outputs": [],
   "source": [
    "x_test = x_test.drop(x_test[(x_test.toxic == 1) & (x_test.severe_toxic != 1) & (x_test.threat != 1) & (x_test.identity_hate != 1)].index[:3000])"
   ]
  },
  {
   "cell_type": "code",
   "execution_count": 14,
   "metadata": {},
   "outputs": [],
   "source": [
    "x_test = x_test.drop(x_test[(x_test.toxic == 0) & (x_test.severe_toxic == 0) & (x_test.threat == 0) & (x_test.identity_hate == 0) & (x_test.obscene == 0) & (x_test.insult == 0)].index[:3000])"
   ]
  },
  {
   "cell_type": "code",
   "execution_count": 16,
   "metadata": {},
   "outputs": [
    {
     "output_type": "stream",
     "name": "stdout",
     "text": [
      "comment_text     3243\ntoxic            3243\nsevere_toxic     3243\nobscene          3243\nthreat           3243\ninsult           3243\nidentity_hate    3243\ndtype: int64\n"
     ]
    }
   ],
   "source": [
    "toxic = x_test[(x_test.toxic == 1) | (x_test.severe_toxic == 1) | (x_test.threat == 1) | (x_test.identity_hate == 1) | (x_test.obscene == 1) | (x_test.insult == 1)]\n",
    "print(toxic.count())"
   ]
  },
  {
   "cell_type": "code",
   "execution_count": 17,
   "metadata": {},
   "outputs": [
    {
     "output_type": "stream",
     "name": "stdout",
     "text": [
      "comment_text     3735\ntoxic            3735\nsevere_toxic     3735\nobscene          3735\nthreat           3735\ninsult           3735\nidentity_hate    3735\ndtype: int64\n"
     ]
    }
   ],
   "source": [
    "non_toxic = x_test[(x_test.toxic == 0) & (x_test.severe_toxic == 0) & (x_test.threat == 0) & (x_test.identity_hate == 0) & (x_test.obscene == 0) & (x_test.insult == 0)]\n",
    "print(non_toxic.count())"
   ]
  },
  {
   "cell_type": "code",
   "execution_count": 18,
   "metadata": {},
   "outputs": [],
   "source": [
    "import numpy as np\n",
    "import matplotlib.pyplot as plt\n",
    "%matplotlib inline\n",
    "\n",
    "histograms = {}\n",
    "\n",
    "for index in range(1,7):\n",
    "    histograms.update({x_test.iloc[:,index].name : np.histogram(x_test.iloc[:,index], bins=2)[0]})"
   ]
  },
  {
   "cell_type": "code",
   "execution_count": 19,
   "metadata": {},
   "outputs": [
    {
     "output_type": "execute_result",
     "data": {
      "text/plain": [
       "{'toxic': array([3888, 3090], dtype=int64),\n",
       " 'severe_toxic': array([6611,  367], dtype=int64),\n",
       " 'obscene': array([4969, 2009], dtype=int64),\n",
       " 'threat': array([6767,  211], dtype=int64),\n",
       " 'insult': array([5025, 1953], dtype=int64),\n",
       " 'identity_hate': array([6266,  712], dtype=int64)}"
      ]
     },
     "metadata": {},
     "execution_count": 19
    }
   ],
   "source": [
    "histograms"
   ]
  },
  {
   "cell_type": "code",
   "execution_count": 20,
   "metadata": {},
   "outputs": [],
   "source": [
    "x_test.to_pickle(\"balanced_test_dataset.pickle\",compression=None)"
   ]
  },
  {
   "cell_type": "code",
   "execution_count": null,
   "metadata": {},
   "outputs": [],
   "source": []
  }
 ],
 "metadata": {
  "kernelspec": {
   "name": "python388jvsc74a57bd0746eec4f0cf2bd2bd143a4eb10480580d722f553ed0fc03fc42076491106f879",
   "display_name": "Python 3.8.8 64-bit ('grp7_env': conda)"
  },
  "language_info": {
   "codemirror_mode": {
    "name": "ipython",
    "version": 3
   },
   "file_extension": ".py",
   "mimetype": "text/x-python",
   "name": "python",
   "nbconvert_exporter": "python",
   "pygments_lexer": "ipython3",
   "version": "3.8.8"
  }
 },
 "nbformat": 4,
 "nbformat_minor": 4
}