{
 "cells": [
  {
   "cell_type": "code",
   "execution_count": 1,
   "metadata": {},
   "outputs": [],
   "source": [
    "from utils import read_datasets\n",
    "x, y = read_datasets()"
   ]
  },
  {
   "cell_type": "code",
   "execution_count": 2,
   "metadata": {},
   "outputs": [],
   "source": [
    "x = x.drop(x[(x.toxic == 1) & (x.severe_toxic != 1) & (x.threat != 1) & (x.identity_hate != 1)].index[:13000])"
   ]
  },
  {
   "cell_type": "code",
   "execution_count": 3,
   "metadata": {},
   "outputs": [],
   "source": [
    "x = x.drop(x[(x.toxic == 0) & (x.severe_toxic == 0) & (x.threat == 0) & (x.identity_hate == 0) & (x.obscene == 0) & (x.insult == 0)].index[:140000])"
   ]
  },
  {
   "cell_type": "code",
   "execution_count": 4,
   "metadata": {},
   "outputs": [
    {
     "name": "stdout",
     "output_type": "stream",
     "text": [
      "comment_text     3786\n",
      "toxic            3786\n",
      "severe_toxic     3786\n",
      "obscene          3786\n",
      "threat           3786\n",
      "insult           3786\n",
      "identity_hate    3786\n",
      "dtype: int64\n"
     ]
    }
   ],
   "source": [
    "toxic = x[(x.toxic == 1) | (x.severe_toxic == 1) | (x.threat == 1) | (x.identity_hate == 1) | (x.obscene == 1) | (x.insult == 1)]\n",
    "print(toxic.count())"
   ]
  },
  {
   "cell_type": "code",
   "execution_count": 5,
   "metadata": {},
   "outputs": [
    {
     "name": "stdout",
     "output_type": "stream",
     "text": [
      "comment_text     3346\n",
      "toxic            3346\n",
      "severe_toxic     3346\n",
      "obscene          3346\n",
      "threat           3346\n",
      "insult           3346\n",
      "identity_hate    3346\n",
      "dtype: int64\n"
     ]
    }
   ],
   "source": [
    "non_toxic = x[(x.toxic == 0) & (x.severe_toxic == 0) & (x.threat == 0) & (x.identity_hate == 0) & (x.obscene == 0) & (x.insult == 0)]\n",
    "print(non_toxic.count())"
   ]
  },
  {
   "cell_type": "code",
   "execution_count": 6,
   "metadata": {},
   "outputs": [
    {
     "name": "stdout",
     "output_type": "stream",
     "text": [
      "{'toxic': array([4277, 2855], dtype=int64), 'severe_toxic': array([5537, 1595], dtype=int64), 'obscene': array([4241, 2891], dtype=int64), 'threat': array([6654,  478], dtype=int64), 'insult': array([4270, 2862], dtype=int64), 'identity_hate': array([5727, 1405], dtype=int64)}\n"
     ]
    }
   ],
   "source": [
    "import numpy as np\n",
    "import matplotlib.pyplot as plt\n",
    "%matplotlib inline\n",
    "\n",
    "histograms = {}\n",
    "\n",
    "for index in range(1,7):\n",
    "    histograms.update({x.iloc[:,index].name : np.histogram(x.iloc[:,index], bins=2)[0]})"
   ]
  },
  {
   "cell_type": "code",
   "execution_count": 7,
   "metadata": {},
   "outputs": [
    {
     "data": {
      "text/plain": [
       "{'toxic': array([4277, 2855], dtype=int64),\n",
       " 'severe_toxic': array([5537, 1595], dtype=int64),\n",
       " 'obscene': array([4241, 2891], dtype=int64),\n",
       " 'threat': array([6654,  478], dtype=int64),\n",
       " 'insult': array([4270, 2862], dtype=int64),\n",
       " 'identity_hate': array([5727, 1405], dtype=int64)}"
      ]
     },
     "execution_count": 7,
     "metadata": {},
     "output_type": "execute_result"
    }
   ],
   "source": [
    "histograms"
   ]
  },
  {
   "cell_type": "code",
   "execution_count": 9,
   "metadata": {},
   "outputs": [],
   "source": [
    "x.to_pickle(\"balanced_dataset.pickle\",compression=None)"
   ]
  },
  {
   "cell_type": "code",
   "execution_count": null,
   "metadata": {},
   "outputs": [],
   "source": []
  }
 ],
 "metadata": {
  "kernelspec": {
   "display_name": "Python 3",
   "language": "python",
   "name": "python3"
  },
  "language_info": {
   "codemirror_mode": {
    "name": "ipython",
    "version": 3
   },
   "file_extension": ".py",
   "mimetype": "text/x-python",
   "name": "python",
   "nbconvert_exporter": "python",
   "pygments_lexer": "ipython3",
   "version": "3.8.8"
  }
 },
 "nbformat": 4,
 "nbformat_minor": 4
}
