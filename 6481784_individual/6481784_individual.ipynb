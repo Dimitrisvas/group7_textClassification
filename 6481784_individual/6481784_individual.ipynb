{
  "nbformat": 4,
  "nbformat_minor": 0,
  "metadata": {
    "language_info": {
      "codemirror_mode": {
        "name": "ipython",
        "version": 3
      },
      "file_extension": ".py",
      "mimetype": "text/x-python",
      "name": "python",
      "nbconvert_exporter": "python",
      "pygments_lexer": "ipython3",
      "version": "3.8.8"
    },
    "orig_nbformat": 2,
    "kernelspec": {
      "name": "python388jvsc74a57bd0746eec4f0cf2bd2bd143a4eb10480580d722f553ed0fc03fc42076491106f879",
      "display_name": "Python 3.8.8 64-bit ('grp7_env': conda)"
    },
    "colab": {
      "name": "dimitris_individual.ipynb",
      "provenance": [],
      "collapsed_sections": [],
      "toc_visible": true
    },
    "accelerator": "GPU"
  },
  "cells": [
    {
      "cell_type": "markdown",
      "metadata": {
        "id": "ARyshPz6rj3L"
      },
      "source": [
        "## 6481784 - Group 7 Individual Experimentation\n",
        "\n"
      ]
    },
    {
      "cell_type": "markdown",
      "metadata": {
        "id": "Vt_Gv9FyIN0m"
      },
      "source": [
        "This report details the results of the experimentation performed by myself, for the benefit of Group 7's COM3029 Group Coursework. \n",
        "\n",
        "The aim of our project is to produce a model that can predict whether a given text contains obscenities, toxicity, identity hate, insults, or threats. This model may then be fed samples, and the resulting prediction could be used to automatically flag comments for the benefit of moderators of online communities in any context.\n",
        "\n",
        "The dataset chosen for this purpose was obtained on Kaggle [https://www.kaggle.com/c/jigsaw-toxic-comment-classification-challenge], which has been scraped by the Conversation AI team [https://conversationai.github.io/]. It is comprised of comments from Wikipedia's talk page edits. It should be noted that the contents of some of the comments are offensive."
      ]
    },
    {
      "cell_type": "markdown",
      "metadata": {
        "id": "v1s21oPQQNma"
      },
      "source": [
        "### Experimentation Goal"
      ]
    },
    {
      "cell_type": "markdown",
      "metadata": {
        "id": "4xNqf89AQR42"
      },
      "source": [
        "My part of the experimentation on the project mostly focuses on optimising the choice of different hyperparameters for the model itself. It should be noted that these experiments will be performed on the Base Model. Another groupmate, Vinal Asodia, will be performing 2 similar setups on an LSTM model, however both of our experiments are worth performing as they are performed on completely separate models.\n",
        "\n",
        "Nevertheless, I have not omitted any aspect of the dataset visualisation, pre-processing, or results evaluation. Please be aware, however, that the above is the case for my groupmates as well, and much of the code was developed in cooperation with each other. \n",
        "\n",
        "For this reason, it will be called out where the code used was originally produced by one of my groupmates."
      ]
    },
    {
      "cell_type": "markdown",
      "metadata": {
        "id": "tBzMRAjlT9s3"
      },
      "source": [
        "### Initial Library Imports"
      ]
    },
    {
      "cell_type": "code",
      "metadata": {
        "id": "5BQuCTpzrj3d"
      },
      "source": [
        "# Imports\n",
        "import pickle\n",
        "import keras\n",
        "import seaborn as sns\n",
        "import pandas as pd\n",
        "import numpy as np\n",
        "import tensorflow as tf\n",
        "import matplotlib.pyplot as plt\n",
        "from keras.models import Sequential\n",
        "from keras.layers import Dense, Conv1D, Dropout, GlobalMaxPooling1D, Embedding, LSTM\n",
        "from tensorflow.keras.preprocessing.text import Tokenizer\n",
        "from tensorflow.keras.preprocessing.sequence import pad_sequences\n",
        "from sklearn.metrics import precision_recall_curve\n",
        "from sklearn.metrics import average_precision_score\n",
        "\n",
        "# Pre-processing imports\n",
        "import functools\n",
        "import nltk\n",
        "\n",
        "from functools import lru_cache\n",
        "from nltk.corpus import stopwords\n",
        "from nltk.corpus import wordnet\n",
        "from nltk.stem import WordNetLemmatizer\n",
        "from nltk.tokenize import word_tokenize\n",
        "\n",
        "# Constants\n",
        "EPOCHS = 15\n",
        "INIT_LR = 1e-3\n",
        "LABELS = ['toxic', 'severe_toxic', 'obscene', 'threat', 'insult', 'identity_hate']"
      ],
      "execution_count": 1,
      "outputs": []
    },
    {
      "cell_type": "markdown",
      "metadata": {
        "id": "nXCHDMWUMGED"
      },
      "source": [
        "### Import dataset"
      ]
    },
    {
      "cell_type": "markdown",
      "metadata": {
        "id": "60Qtw1zSU5Yl"
      },
      "source": [
        "The dataset was obtained in the form of 3 .csv files: *train.csv*, *test.csv*, and *test_labels.csv*. The format of these files is mostly shared. \n",
        "\n",
        "Broadly speaking, each row contains a column named *comment_text* containing the exact text of the scraped comment, the length of which may be a few characters or many paragraphs. Each row has also labelled by human raters with a value of 0 or 1 in each of the following categories, per the type of toxicity it contains, in this order:\n",
        "\n",
        "*   *toxic*\n",
        "*   *severe_toxic*\n",
        "*   *obscene*\n",
        "*   *threat*\n",
        "*   *insult*\n",
        "*   *identity_hate*\n",
        "\n",
        "More specifically, *train.csv* contains 159572 comments, all labelled in the 6 categories above, and all are also provided with an *id* value, that is not used in the scope of this project. *test.csv* contains only the text contents of 153165 additional comments, while *test_labels.csv* only contains the labels of the same set of comments. "
      ]
    },
    {
      "cell_type": "code",
      "metadata": {
        "id": "_u4EG6-JsBHz"
      },
      "source": [
        "# Read datasets into DataFrame format\n",
        "train = pd.read_csv(\"data/train.csv\")\n",
        "test_data = pd.read_csv(\"data/test.csv\")\n",
        "test_labels = pd.read_csv(\"data/test_labels.csv\")\n",
        "\n",
        "# Remove rows NaN and inf values \n",
        "train = train.dropna()\n",
        "\n",
        "test = pd.concat([test_data, test_labels], axis=1)\n",
        "\n",
        "# id column is unused and thus removed\n",
        "train = train.drop(columns=[\"id\"])\n",
        "test = test.drop(columns=[\"id\"])"
      ],
      "execution_count": 2,
      "outputs": []
    },
    {
      "cell_type": "markdown",
      "metadata": {
        "id": "0CnR4yBVcaL-"
      },
      "source": [
        "As this project does not require unlabelled data, the initially separated *test.csv* data and the matching *test_labels.csv* labels are combined into one DataFrame.\n",
        "\n",
        "In the now-concatenated *test* DataFrame, certain rows were not rated, and thus were labelled with a -1 value in every column. For the reason described above, these rows are dropped in the cell below."
      ]
    },
    {
      "cell_type": "code",
      "metadata": {
        "id": "hFQooM64U70y"
      },
      "source": [
        "test = test.drop(test[(test.toxic == -1) |\n",
        "                      (test.severe_toxic == -1) |\n",
        "                      (test.obscene == -1) |\n",
        "                      (test.threat == -1) |\n",
        "                      (test.insult == -1) |\n",
        "                      (test.identity_hate == -1)].index)"
      ],
      "execution_count": 3,
      "outputs": []
    },
    {
      "cell_type": "markdown",
      "metadata": {
        "id": "qM_44U8WdhNF"
      },
      "source": [
        "### Preliminary Visualisation"
      ]
    },
    {
      "cell_type": "markdown",
      "metadata": {
        "id": "t_gdC3gFP0vu"
      },
      "source": [
        "These visualisations were prepared by Vinal Asodia"
      ]
    },
    {
      "cell_type": "code",
      "metadata": {
        "id": "Ytm8fI6Xa4Dk"
      },
      "source": [
        "# Gather all samples that have no toxic labels, these can be consider \"non-toxic\"\n",
        "non_toxic = train[(train.toxic == 0) &\n",
        "                  (train.severe_toxic == 0) & \n",
        "                  (train.obscene == 0) & \n",
        "                  (train.threat == 0) & \n",
        "                  (train.insult == 0) & \n",
        "                  (train.identity_hate == 0)]\n",
        "\n",
        "# Gather all samples that are labelled\n",
        "toxic = train[(train.toxic == 1) |\n",
        "                  (train.severe_toxic == 1) | \n",
        "                  (train.obscene == 1) | \n",
        "                  (train.threat == 1) | \n",
        "                  (train.insult == 1) | \n",
        "                  (train.identity_hate == 1)]"
      ],
      "execution_count": 4,
      "outputs": []
    },
    {
      "cell_type": "code",
      "metadata": {
        "colab": {
          "base_uri": "https://localhost:8080/",
          "height": 264
        },
        "id": "DumE4iZXa6Ff",
        "outputId": "953600eb-4ca0-42c4-871b-94a92c830fb6"
      },
      "source": [
        "labels = [\"Non-Toxic\", \"Toxic\"]\n",
        "data = [len(non_toxic), len(toxic)]\n",
        "\n",
        "plt.pie(data,labels=labels,autopct='%1.1f%%')\n",
        "plt.title('Initial Toxic and Non-Toxic Comment Distribution')\n",
        "plt.axis('equal')\n",
        "plt.show()"
      ],
      "execution_count": 5,
      "outputs": [
        {
          "output_type": "display_data",
          "data": {
            "image/png": "[encoded data removed]",
            "text/plain": [
              "<Figure size 432x288 with 1 Axes>"
            ]
          },
          "metadata": {
            "tags": []
          }
        }
      ]
    },
    {
      "cell_type": "markdown",
      "metadata": {
        "id": "aLgqsBpjd2G6"
      },
      "source": [
        "As can be seen above, of the 159572 comments in *train.csv* ~90% are rated as not containing any of the relevant types of toxicity. Preliminary experiments have shown that training a model with this class balancing results in a model that tends to predict all comments are non-toxic."
      ]
    },
    {
      "cell_type": "code",
      "metadata": {
        "id": "NElFs8n7e5mY"
      },
      "source": [
        "classes = {}\n",
        "\n",
        "for index in range(1,7):\n",
        "    classes.update({train.iloc[:,index].name : np.histogram(train.iloc[:,index], bins=2)[0]})"
      ],
      "execution_count": 6,
      "outputs": []
    },
    {
      "cell_type": "code",
      "metadata": {
        "colab": {
          "base_uri": "https://localhost:8080/",
          "height": 266
        },
        "id": "_oNxS8MdfHzT",
        "outputId": "d58c6595-1318-4714-ac0a-94b120c2a578"
      },
      "source": [
        "labels = list(classes.keys())\n",
        "values = list(classes.values())\n",
        "data = [values[x][1] for x in range(0,len(values))]\n",
        "\n",
        "plt.pie(data,labels=labels,autopct='%1.1f%%')\n",
        "plt.title('Initial Class Balance')\n",
        "plt.axis('equal')\n",
        "plt.show()"
      ],
      "execution_count": 7,
      "outputs": [
        {
          "output_type": "display_data",
          "data": {
            "image/png": "[encoded data removed]",
            "text/plain": [
              "<Figure size 432x288 with 1 Axes>"
            ]
          },
          "metadata": {
            "tags": []
          }
        }
      ]
    },
    {
      "cell_type": "markdown",
      "metadata": {
        "id": "7GM11PxqfOqr"
      },
      "source": [
        "As well as being mostly comprised of non-toxic comments, the toxic population of comments is also heavily skewed towards comments rated as *toxic*. While this is understandable, as it is more common than not for obscene comments to also be toxic, for example, this has also been found to hurt the performance of the model on the full spectrum of comments in the dataset.\n",
        "\n",
        "For this reason, as well as the reason outlined above, many of the rows in these most populous groups are dropped, to increase the variety of the dataset, as well as reduce the amount of resources needed to train the model."
      ]
    },
    {
      "cell_type": "code",
      "metadata": {
        "id": "8A-JKn3vvjSa"
      },
      "source": [
        "train = train.drop(train[(train.toxic == 1) & (train.severe_toxic != 1) & (train.threat != 1) & (train.identity_hate != 1)].index[:13000])\n",
        "train = train.drop(train[(train.toxic == 0) & (train.severe_toxic == 0) & (train.threat == 0) & (train.identity_hate == 0) & (train.obscene == 0) & (train.insult == 0)].index[:140000])"
      ],
      "execution_count": 8,
      "outputs": []
    },
    {
      "cell_type": "code",
      "metadata": {
        "colab": {
          "base_uri": "https://localhost:8080/",
          "height": 268
        },
        "id": "3-0oZeTYzFuX",
        "outputId": "aa5f7d04-4fc7-4aba-f071-83560d3096f4"
      },
      "source": [
        "# Gather all samples that have no toxic labels, these can be consider \"non-toxic\"\n",
        "non_toxic = train[(train.toxic == 0) &\n",
        "                  (train.severe_toxic == 0) & \n",
        "                  (train.obscene == 0) & \n",
        "                  (train.threat == 0) & \n",
        "                  (train.insult == 0) & \n",
        "                  (train.identity_hate == 0)]\n",
        "\n",
        "# Gather all samples that are labelled\n",
        "toxic = train[(train.toxic == 1) |\n",
        "                  (train.severe_toxic == 1) | \n",
        "                  (train.obscene == 1) | \n",
        "                  (train.threat == 1) | \n",
        "                  (train.insult == 1) | \n",
        "                  (train.identity_hate == 1)]\n",
        "\n",
        "labels = [\"Non-Toxic\", \"Toxic\"]\n",
        "data = [len(non_toxic), len(toxic)]\n",
        "\n",
        "plt.pie(data,labels=labels,autopct='%1.1f%%')\n",
        "plt.title('Final Toxic and Non-Toxic Comment Distribution')\n",
        "plt.axis('equal')\n",
        "plt.show()"
      ],
      "execution_count": 9,
      "outputs": [
        {
          "output_type": "display_data",
          "data": {
            "image/png": "[encoded data removed]",
            "text/plain": [
              "<Figure size 432x288 with 1 Axes>"
            ]
          },
          "metadata": {
            "tags": []
          }
        }
      ]
    },
    {
      "cell_type": "code",
      "metadata": {
        "id": "m67XH5TUzN70"
      },
      "source": [
        "classes2 = {}\n",
        "\n",
        "for index in range(1,7):\n",
        "    classes2.update({train.iloc[:,index].name : np.histogram(train.iloc[:,index], bins=2)[0]})"
      ],
      "execution_count": 10,
      "outputs": []
    },
    {
      "cell_type": "code",
      "metadata": {
        "colab": {
          "base_uri": "https://localhost:8080/",
          "height": 267
        },
        "id": "EumCBjMt1GIc",
        "outputId": "1f4ea4e3-6cac-43d3-9e0a-19dcee8cf800"
      },
      "source": [
        "labels = list(classes2.keys())\n",
        "values = list(classes2.values())\n",
        "data = [values[x][1] for x in range(0,len(values))]\n",
        "\n",
        "plt.pie(data,labels=labels,autopct='%1.1f%%')\n",
        "plt.title('Final Class Balance')\n",
        "plt.axis('equal')\n",
        "plt.show()"
      ],
      "execution_count": 11,
      "outputs": [
        {
          "output_type": "display_data",
          "data": {
            "image/png": "[encoded data removed]",
            "text/plain": [
              "<Figure size 432x288 with 1 Axes>"
            ]
          },
          "metadata": {
            "tags": []
          }
        }
      ]
    },
    {
      "cell_type": "markdown",
      "metadata": {
        "id": "1fKhTq66g0ej"
      },
      "source": [
        "### Visualisation of Dataset Contents"
      ]
    },
    {
      "cell_type": "markdown",
      "metadata": {
        "id": "GFK99Jt_P6Dc"
      },
      "source": [
        "These visualisations were prepared by Mohamed Hassan"
      ]
    },
    {
      "cell_type": "code",
      "metadata": {
        "id": "KMkGvJ74A6bo"
      },
      "source": [
        "# Remove punctuation\n",
        "regex_str = \"[^a-zA-Z\\s]\"\n",
        "train['comment_text'] = train['comment_text'].replace(regex=regex_str, value=\"\")\n",
        "\n",
        "# Remove extra whitespaces\n",
        "regex_space = \"\\s+\"\n",
        "train['comment_text'] = train['comment_text'].replace(regex=regex_space, value=\" \")\n",
        "\n",
        "# Strip whitespaces\n",
        "train['comment_text'] = train['comment_text'].str.strip()\n",
        "\n",
        "# Lowercase\n",
        "train['comment_text'] = train['comment_text'].str.lower()\n",
        "\n",
        "# Convert comment_text column into a list\n",
        "comment_list = train['comment_text'].tolist()"
      ],
      "execution_count": 12,
      "outputs": []
    },
    {
      "cell_type": "code",
      "metadata": {
        "id": "SvvHy7APBC-l"
      },
      "source": [
        "comments = [sentence.split() for sentence in comment_list]\n",
        "tokenised_comment = [word for sentence in comments for word in sentence]"
      ],
      "execution_count": 13,
      "outputs": []
    },
    {
      "cell_type": "code",
      "metadata": {
        "colab": {
          "base_uri": "https://localhost:8080/"
        },
        "id": "toNyp0xlBHcd",
        "outputId": "3016d1b2-9da5-4407-b85f-952cd5bbcfd7"
      },
      "source": [
        "nltk.download('stopwords')\n",
        "\n",
        "# Remove stopwords, using stopword list from nltk\n",
        "stopword_list = set(stopwords.words('english'))\n",
        "removed_stopwords = [word for word in tokenised_comment if word not in stopword_list]"
      ],
      "execution_count": 14,
      "outputs": [
        {
          "output_type": "stream",
          "text": [
            "[nltk_data] Downloading package stopwords to /root/nltk_data...\n",
            "[nltk_data]   Package stopwords is already up-to-date!\n"
          ],
          "name": "stdout"
        }
      ]
    },
    {
      "cell_type": "code",
      "metadata": {
        "id": "tEmazYWRA2sa"
      },
      "source": [
        "from collections import Counter\n",
        "\n",
        "def plot_top_non_stopwords_barchart(text):\n",
        "    stop=set(stopwords.words('english'))\n",
        "    \n",
        "    new= text.str.split()\n",
        "    new=new.values.tolist()\n",
        "    corpus=[word for i in new for word in i]\n",
        "\n",
        "    counter=Counter(corpus)\n",
        "    most=counter.most_common(50)\n",
        "    x, y=[], []\n",
        "    for word,count in most:\n",
        "        if (word not in stop):\n",
        "            x.append(word)\n",
        "            y.append(count)\n",
        "            \n",
        "    sns.barplot(x=y,y=x)"
      ],
      "execution_count": 15,
      "outputs": []
    },
    {
      "cell_type": "code",
      "metadata": {
        "id": "tdcXsboUBM4O"
      },
      "source": [
        "# Gather all samples that have no toxic labels, these can be consider \"non-toxic\"\n",
        "non_toxic = train[(train.toxic == 0) &\n",
        "                  (train.severe_toxic == 0) & \n",
        "                  (train.obscene == 0) & \n",
        "                  (train.threat == 0) & \n",
        "                  (train.insult == 0) & \n",
        "                  (train.identity_hate == 0)]\n",
        "\n",
        "# Gather all samples that are labelled\n",
        "toxic = train[(train.toxic == 1) |\n",
        "                  (train.severe_toxic == 1) | \n",
        "                  (train.obscene == 1) | \n",
        "                  (train.threat == 1) | \n",
        "                  (train.insult == 1) | \n",
        "                  (train.identity_hate == 1)]"
      ],
      "execution_count": 16,
      "outputs": []
    },
    {
      "cell_type": "code",
      "metadata": {
        "id": "xuAm8xZI3Hm2",
        "colab": {
          "base_uri": "https://localhost:8080/",
          "height": 265
        },
        "outputId": "a15b4d6e-986c-4d68-cfd2-d6e4c79df706"
      },
      "source": [
        "plot_top_non_stopwords_barchart(toxic['comment_text'])   "
      ],
      "execution_count": 17,
      "outputs": [
        {
          "output_type": "display_data",
          "data": {
            "image/png": "[encoded data removed]",
            "text/plain": [
              "<Figure size 432x288 with 1 Axes>"
            ]
          },
          "metadata": {
            "tags": [],
            "needs_background": "light"
          }
        }
      ]
    },
    {
      "cell_type": "code",
      "metadata": {
        "id": "uL0HulAD38jJ",
        "colab": {
          "base_uri": "https://localhost:8080/",
          "height": 265
        },
        "outputId": "f9381259-77f1-4926-d4cf-74822f705462"
      },
      "source": [
        "plot_top_non_stopwords_barchart(non_toxic['comment_text'])"
      ],
      "execution_count": 18,
      "outputs": [
        {
          "output_type": "display_data",
          "data": {
            "image/png": "[encoded data removed]",
            "text/plain": [
              "<Figure size 432x288 with 1 Axes>"
            ]
          },
          "metadata": {
            "tags": [],
            "needs_background": "light"
          }
        }
      ]
    },
    {
      "cell_type": "markdown",
      "metadata": {
        "id": "7pjNbCrWMUVZ"
      },
      "source": [
        "### Pre-processing"
      ]
    },
    {
      "cell_type": "markdown",
      "metadata": {
        "id": "B0EMJXdHhEJu"
      },
      "source": [
        "In this section, the dataset will be pre-processed as per our group's requirements.\n",
        "\n",
        "The goal is to arrive at a cleaned, stopworded and lemmatised list of comments, each of which is made up of a list of numerical sequences. These sequences represent the frequency ranking of each word, and help with the network in observing patterns in the data, which is one of the best ways to analyse text using a CNN."
      ]
    },
    {
      "cell_type": "markdown",
      "metadata": {
        "id": "96HCZVsmQKoj"
      },
      "source": [
        "The majority of the pre-processing algorithm was prepared by Xin Wei Lam"
      ]
    },
    {
      "cell_type": "code",
      "metadata": {
        "id": "qx2clXLOAVDL"
      },
      "source": [
        "y_train = train.drop(columns=\"comment_text\")"
      ],
      "execution_count": 19,
      "outputs": []
    },
    {
      "cell_type": "code",
      "metadata": {
        "id": "tkXIjWcX15tc"
      },
      "source": [
        "# Pre-processing functions\n",
        "\n",
        "# Function to clean comments in train dataset\n",
        "# Params: \n",
        "#   pd dataframe    - @train_dataset: Training dataset\n",
        "# Output: \n",
        "#   2D List         - @comment_list: cleaned comments\n",
        "def clean_data(train_dataset):\n",
        "    # Remove punctuation\n",
        "    regex_str = \"[^a-zA-Z\\s]\"\n",
        "    train_dataset['comment_text'] = train_dataset['comment_text'].replace(regex=regex_str, value=\"\")\n",
        "\n",
        "    # Remove extra whitespaces\n",
        "    regex_space = \"\\s+\"\n",
        "    train_dataset['comment_text'] = train_dataset['comment_text'].replace(regex=regex_space, value=\" \")\n",
        "\n",
        "    # Strip whitespaces\n",
        "    train_dataset['comment_text'] = train_dataset['comment_text'].str.strip()\n",
        "\n",
        "    # Lowercase\n",
        "    train_dataset['comment_text'] = train_dataset['comment_text'].str.lower()\n",
        "\n",
        "    return train_dataset['comment_text']\n",
        "\n",
        "# Function to get NLTK POS Tagger\n",
        "# Params: \n",
        "#   Str - @word: Token\n",
        "# Output\n",
        "#   Dict - POS tagger\n",
        "def nltk_get_wordnet_pos(word):\n",
        "    \n",
        "    tag = nltk.pos_tag([word])[0][1][0].upper()\n",
        "\n",
        "    # Convert NLTK to wordnet POS notations\n",
        "\n",
        "    tag_dict = {\"J\": wordnet.ADJ,\n",
        "                \"N\": wordnet.NOUN,\n",
        "                \"V\": wordnet.VERB,\n",
        "                \"R\": wordnet.ADV}\n",
        "\n",
        "    return tag_dict.get(tag, wordnet.NOUN) # Default to noun if not found\n",
        "\n",
        "# Function to use NLTK lemmatizer\n",
        "# Params: 2D List - Tokenized comments with stopwords removed\n",
        "# Returns: 2D List - lemmatized tokens\n",
        "def nltk_lemmatize(comment_stop):\n",
        "    nltk.download('wordnet')\n",
        "    nltk.download('averaged_perceptron_tagger')\n",
        "    comment_lemma = []\n",
        "    lemmatizer = WordNetLemmatizer()\n",
        "    lemmatizer_cache = lru_cache(maxsize=50000)(lemmatizer.lemmatize)\n",
        "\n",
        "    for comment in comment_stop:\n",
        "        temp = []\n",
        "        temp.append([lemmatizer_cache(word, pos=nltk_get_wordnet_pos(word)) for word in comment])\n",
        "        comment_lemma += temp\n",
        "\n",
        "    return comment_lemma\n",
        "\n",
        "# Function to remove NLTK stopwords\n",
        "# Params: \n",
        "#   2D List - @comment_token: cleaned & tokenized comments\n",
        "# Output:\n",
        "#   2D List - @comment_stop: cleaned tokens with stopwords removed\n",
        "def nltk_stopwords(comment_token):\n",
        "    # Stopwords in English only\n",
        "    STOP_WORDS = set(stopwords.words('english'))\n",
        "\n",
        "    # Remove stopwords\n",
        "    comment_stop = []\n",
        "\n",
        "    for comment in comment_token:\n",
        "        \n",
        "        temp_word = []\n",
        "\n",
        "        for word in comment:\n",
        "            \n",
        "            if word not in STOP_WORDS:\n",
        "                temp_word.append(word)\n",
        "\n",
        "        comment_stop.append(temp_word)\n",
        "    \n",
        "    return comment_stop\n",
        "\n",
        "# Function to tokenize comments using NLTK Word Tokenize\n",
        "# Params: \n",
        "#   2D List - @text: cleaned comments\n",
        "# Output: \n",
        "#   2D List - tokenized comments\n",
        "def nltk_tokenize(text):\n",
        "    nltk.download(\"punkt\")\n",
        "    return [word_tokenize(word) for word in text]\n",
        "\n",
        "def to_sequences(text, num_words, max_len):\n",
        "    tokenizer = Tokenizer(num_words)\n",
        "    tokenizer.fit_on_texts(text)\n",
        "    x_sequences_train = tokenizer.texts_to_sequences(text)\n",
        "    X_tr = keras.preprocessing.sequence.pad_sequences(x_sequences_train, maxlen=max_len)\n",
        "    X_tr = np.array(X_tr)\n",
        "    return X_tr\n",
        "\n",
        "def preprocess(text):\n",
        "    text = clean_data(text)\n",
        "    text = nltk_tokenize(text)\n",
        "    text = nltk_stopwords(text)\n",
        "    text = nltk_lemmatize(text)\n",
        "    #temp_text = to_sequences(text, num_words, max_len)\n",
        "    return text"
      ],
      "execution_count": 20,
      "outputs": []
    },
    {
      "cell_type": "code",
      "metadata": {
        "colab": {
          "base_uri": "https://localhost:8080/"
        },
        "id": "6zBX2iyn8N5j",
        "outputId": "995bd338-4eea-4974-fe11-dc24ee29fd41"
      },
      "source": [
        "x_text_train = preprocess(train)"
      ],
      "execution_count": 21,
      "outputs": [
        {
          "output_type": "stream",
          "text": [
            "[nltk_data] Downloading package punkt to /root/nltk_data...\n",
            "[nltk_data]   Package punkt is already up-to-date!\n",
            "[nltk_data] Downloading package wordnet to /root/nltk_data...\n",
            "[nltk_data]   Package wordnet is already up-to-date!\n",
            "[nltk_data] Downloading package averaged_perceptron_tagger to\n",
            "[nltk_data]     /root/nltk_data...\n",
            "[nltk_data]   Package averaged_perceptron_tagger is already up-to-\n",
            "[nltk_data]       date!\n"
          ],
          "name": "stdout"
        }
      ]
    },
    {
      "cell_type": "code",
      "metadata": {
        "id": "udre7wA7exgn"
      },
      "source": [
        "num_words = 20000\n",
        "max_len = 200\n",
        "\n",
        "tokenizer = Tokenizer(num_words)\n",
        "tokenizer.fit_on_texts(x_text_train)\n",
        "x_sequences_train = tokenizer.texts_to_sequences(x_text_train)\n",
        "X_t = keras.preprocessing.sequence.pad_sequences(x_sequences_train, maxlen=max_len)\n",
        "X_t = np.array(X_t)"
      ],
      "execution_count": 22,
      "outputs": []
    },
    {
      "cell_type": "code",
      "metadata": {
        "id": "38YqPxM8ezbt"
      },
      "source": [
        "val_split = 0.2\n",
        "num_validation_samples = int(val_split*X_t.shape[0])\n",
        "x_train = X_t[: -num_validation_samples]\n",
        "y_train = y_train[: -num_validation_samples]\n",
        "x_val = X_t[-num_validation_samples: ]\n",
        "y_val = y_train[-num_validation_samples: ]"
      ],
      "execution_count": 23,
      "outputs": []
    },
    {
      "cell_type": "markdown",
      "metadata": {
        "id": "2sUsq1Dlrj3w"
      },
      "source": [
        "### Base Model Definition"
      ]
    },
    {
      "cell_type": "markdown",
      "metadata": {
        "id": "Umb4OXhph6V7"
      },
      "source": [
        "This base model has been utilised by each group member in their individual experimentation work. The aim was to facilitate the immediate comparison of every member's experiment results with the base model's results, as well as with the results of most other experiments, where applicable.\n",
        "\n",
        "This base model was prepared by myself and is defined below:"
      ]
    },
    {
      "cell_type": "code",
      "metadata": {
        "id": "HIRTQARlrj3y"
      },
      "source": [
        "model = Sequential()\n",
        "\n",
        "model.add(Embedding(num_words, 128))\n",
        "model.add(Dropout(0.4))\n",
        "model.add(Conv1D(128, 7, padding=\"valid\", activation=\"relu\", strides=3))\n",
        "model.add(Conv1D(128, 7, padding=\"valid\", activation=\"relu\", strides=3))\n",
        "model.add(GlobalMaxPooling1D())\n",
        "model.add(Dense(128, activation=\"relu\"))\n",
        "model.add(Dropout(0.5))\n",
        "model.add(Dense(6, activation='sigmoid'))\n",
        "\n",
        "adam = tf.keras.optimizers.Adam(lr=INIT_LR, decay=INIT_LR / EPOCHS)\n",
        "\n",
        "model.compile(loss='binary_crossentropy',\n",
        "            optimizer=adam,\n",
        "            metrics=['accuracy'])"
      ],
      "execution_count": 24,
      "outputs": []
    },
    {
      "cell_type": "markdown",
      "metadata": {
        "id": "LXyPh9beZSDl"
      },
      "source": [
        "Design choices such as the model layout, and loss and optimizer functions, were made through researching popular NLP text classification solutions. \n",
        "\n",
        "The intent with my experiments is to prove or disprove how efficient some of these modelling choices are, in the context of this dataset."
      ]
    },
    {
      "cell_type": "markdown",
      "metadata": {
        "id": "uUjGg_Smrj3z"
      },
      "source": [
        "### Base Model Results"
      ]
    },
    {
      "cell_type": "code",
      "metadata": {
        "colab": {
          "base_uri": "https://localhost:8080/"
        },
        "id": "6Fe8euntrj33",
        "outputId": "3d1b1070-17c3-47f6-be05-cbc8e6acd122"
      },
      "source": [
        "model.fit(x_train,y_train, epochs=EPOCHS, batch_size=60,  validation_data=(x_val, y_val))"
      ],
      "execution_count": 25,
      "outputs": [
        {
          "output_type": "stream",
          "text": [
            "Epoch 1/15\n",
            "96/96 [==============================] - 20s 199ms/step - loss: 0.5992 - accuracy: 0.3814 - val_loss: 0.3495 - val_accuracy: 0.4074\n",
            "Epoch 2/15\n",
            "96/96 [==============================] - 18s 192ms/step - loss: 0.4471 - accuracy: 0.4588 - val_loss: 0.2466 - val_accuracy: 0.2335\n",
            "Epoch 3/15\n",
            "96/96 [==============================] - 18s 189ms/step - loss: 0.3658 - accuracy: 0.4625 - val_loss: 0.2873 - val_accuracy: 0.2279\n",
            "Epoch 4/15\n",
            "96/96 [==============================] - 18s 192ms/step - loss: 0.3471 - accuracy: 0.5184 - val_loss: 0.2693 - val_accuracy: 0.2153\n",
            "Epoch 5/15\n",
            "96/96 [==============================] - 18s 191ms/step - loss: 0.3234 - accuracy: 0.5287 - val_loss: 0.2849 - val_accuracy: 0.2167\n",
            "Epoch 6/15\n",
            "96/96 [==============================] - 18s 188ms/step - loss: 0.3086 - accuracy: 0.5463 - val_loss: 0.2907 - val_accuracy: 0.2069\n",
            "Epoch 7/15\n",
            "96/96 [==============================] - 18s 189ms/step - loss: 0.2993 - accuracy: 0.5535 - val_loss: 0.3110 - val_accuracy: 0.2258\n",
            "Epoch 8/15\n",
            "96/96 [==============================] - 18s 189ms/step - loss: 0.2769 - accuracy: 0.5515 - val_loss: 0.3197 - val_accuracy: 0.2125\n",
            "Epoch 9/15\n",
            "96/96 [==============================] - 18s 191ms/step - loss: 0.2649 - accuracy: 0.5895 - val_loss: 0.3722 - val_accuracy: 0.2216\n",
            "Epoch 10/15\n",
            "96/96 [==============================] - 18s 193ms/step - loss: 0.2506 - accuracy: 0.5916 - val_loss: 0.3777 - val_accuracy: 0.2069\n",
            "Epoch 11/15\n",
            "96/96 [==============================] - 18s 189ms/step - loss: 0.2319 - accuracy: 0.5783 - val_loss: 0.3869 - val_accuracy: 0.2181\n",
            "Epoch 12/15\n",
            "96/96 [==============================] - 18s 192ms/step - loss: 0.2161 - accuracy: 0.5577 - val_loss: 0.4117 - val_accuracy: 0.2062\n",
            "Epoch 13/15\n",
            "96/96 [==============================] - 18s 185ms/step - loss: 0.2099 - accuracy: 0.5212 - val_loss: 0.4219 - val_accuracy: 0.1985\n",
            "Epoch 14/15\n",
            "96/96 [==============================] - 18s 190ms/step - loss: 0.2025 - accuracy: 0.5196 - val_loss: 0.4503 - val_accuracy: 0.2146\n",
            "Epoch 15/15\n",
            "96/96 [==============================] - 18s 191ms/step - loss: 0.1901 - accuracy: 0.5081 - val_loss: 0.4435 - val_accuracy: 0.1739\n"
          ],
          "name": "stdout"
        },
        {
          "output_type": "execute_result",
          "data": {
            "text/plain": [
              "<tensorflow.python.keras.callbacks.History at 0x7f9128c4cf10>"
            ]
          },
          "metadata": {
            "tags": []
          },
          "execution_count": 25
        }
      ]
    },
    {
      "cell_type": "markdown",
      "metadata": {
        "id": "BWXHOBl1aJ35"
      },
      "source": [
        "This view of the model results uses accuracy as a metric. With ~56% final average accuracy, it does not appear that this model is a good candidate for predicting toxic comments. \n",
        "\n",
        "It should be noted, however, that the algorithm for calculating accuracy only considers predictions as true when all of the classes have been predicted correctly. If even one class has been predicted as not present when it is labelled as present in the given comment, the entire prediction is false.\n",
        "\n",
        "For this reason, we have opted to use the average precision for each of the classes in order to evaluate this and all following models.\n",
        "\n",
        "Finally, in order to validate that none of our design choices have caused the model to be overfitted to the training data, the dataset used for calculating this evaluation metric will be the unseen *test* dataset. For the purpose of brevity, the class balancing of this dataset has been omitted."
      ]
    },
    {
      "cell_type": "code",
      "metadata": {
        "colab": {
          "base_uri": "https://localhost:8080/"
        },
        "id": "OM10zFY1IqdH",
        "outputId": "a98c3ea7-6691-492f-9b21-2bc2dfee930a"
      },
      "source": [
        "!pip install pickle5\n",
        "import pickle5\n",
        "x_test = pickle5.load(open('data/balanced_test_dataset.pickle', 'rb'))"
      ],
      "execution_count": 26,
      "outputs": [
        {
          "output_type": "stream",
          "text": [
            "Requirement already satisfied: pickle5 in /usr/local/lib/python3.7/dist-packages (0.0.11)\n"
          ],
          "name": "stdout"
        }
      ]
    },
    {
      "cell_type": "code",
      "metadata": {
        "id": "674Xi8DRKCvI"
      },
      "source": [
        "y_test = x_test.drop(columns=\"comment_text\")\n",
        "y_test = y_test.to_numpy()"
      ],
      "execution_count": 27,
      "outputs": []
    },
    {
      "cell_type": "code",
      "metadata": {
        "colab": {
          "base_uri": "https://localhost:8080/"
        },
        "id": "D_4j5g3hKgx8",
        "outputId": "b3cbb3ac-e135-4df7-bc03-621e6f937dc5"
      },
      "source": [
        "x_test = preprocess(x_test)"
      ],
      "execution_count": 28,
      "outputs": [
        {
          "output_type": "stream",
          "text": [
            "[nltk_data] Downloading package punkt to /root/nltk_data...\n",
            "[nltk_data]   Package punkt is already up-to-date!\n",
            "[nltk_data] Downloading package wordnet to /root/nltk_data...\n",
            "[nltk_data]   Package wordnet is already up-to-date!\n",
            "[nltk_data] Downloading package averaged_perceptron_tagger to\n",
            "[nltk_data]     /root/nltk_data...\n",
            "[nltk_data]   Package averaged_perceptron_tagger is already up-to-\n",
            "[nltk_data]       date!\n"
          ],
          "name": "stdout"
        }
      ]
    },
    {
      "cell_type": "code",
      "metadata": {
        "id": "_vBS24Z_f8Pd"
      },
      "source": [
        "x_sequences_test = tokenizer.texts_to_sequences(x_test)\n",
        "X_te = keras.preprocessing.sequence.pad_sequences(x_sequences_test, maxlen=max_len)\n",
        "X_te = np.array(X_te)"
      ],
      "execution_count": 29,
      "outputs": []
    },
    {
      "cell_type": "markdown",
      "metadata": {
        "id": "bMXMB8GeQj2u"
      },
      "source": [
        "This results calculation and visualisation code is based on Vinal Asodia's and Dennis Ocaka's work"
      ]
    },
    {
      "cell_type": "code",
      "metadata": {
        "id": "d17Kvsib4EXM"
      },
      "source": [
        "def calculate_metrics(curr_model, test_dataset):\n",
        "  y_pred = curr_model.predict(test_dataset)\n",
        "  y_pred = np.array(y_pred)\n",
        "  y_pred = y_pred.astype(float)\n",
        "\n",
        "  precision = dict()\n",
        "  recall = dict()\n",
        "  average_precision = dict()\n",
        "  index = 0\n",
        "  for label in LABELS:\n",
        "    \n",
        "    precision[label], recall[label], _ = precision_recall_curve(y_test[:, index],\n",
        "                                                        y_pred[:, index])\n",
        "    average_precision[label] = average_precision_score(y_test[:, index], y_pred[:, index])\n",
        "    index+=1\n",
        "  return precision, recall, average_precision"
      ],
      "execution_count": 30,
      "outputs": []
    },
    {
      "cell_type": "code",
      "metadata": {
        "id": "oITz66rUIcMa"
      },
      "source": [
        "precision_base, recall_base, average_precision_base = calculate_metrics(model, X_te)"
      ],
      "execution_count": 31,
      "outputs": []
    },
    {
      "cell_type": "code",
      "metadata": {
        "colab": {
          "base_uri": "https://localhost:8080/",
          "height": 297
        },
        "id": "PpAmyDyegGvr",
        "outputId": "582d116c-e788-4b70-f19e-5079bcf33f46"
      },
      "source": [
        "x = np.arange(len(LABELS))\n",
        "width = 0.35\n",
        "\n",
        "fig, ax = plt.subplots()\n",
        "ax.bar(x - width / 2, average_precision_base.values(), width, label=\"Base Model\")\n",
        "\n",
        "ax.set_ylabel('Precision scores')\n",
        "ax.set_title('Base Model Results')\n",
        "ax.set_xticks(x)\n",
        "ax.set_xticklabels(LABELS)\n",
        "ax.legend()\n",
        "\n",
        "fig.tight_layout()\n",
        "\n",
        "plt.show()"
      ],
      "execution_count": 32,
      "outputs": [
        {
          "output_type": "display_data",
          "data": {
            "image/png": "[encoded data removed]",
            "text/plain": [
              "<Figure size 432x288 with 1 Axes>"
            ]
          },
          "metadata": {
            "tags": [],
            "needs_background": "light"
          }
        }
      ]
    },
    {
      "cell_type": "markdown",
      "metadata": {
        "id": "HHMjAFN7biDH"
      },
      "source": [
        "As can be seen above, the model is best suited towards predicting the most populous classes, such as *toxic*, *obscene*, and *insult*, reaching an average of 68% average precision on each. With these values, it can be concluded that even the base model can be a good classifier for these classes.\n",
        "\n",
        "However, as the amount of comments labelled in a given class decreases, so does the model's performance in said class. The model only achieved a ~10% average precision score in the *threat* class, which is understandable seeing as it only makes up 5% of the overall dataset."
      ]
    },
    {
      "cell_type": "code",
      "metadata": {
        "id": "SuUAqHNo1hiz"
      },
      "source": [
        "model.save('base_model.h5')"
      ],
      "execution_count": 33,
      "outputs": []
    },
    {
      "cell_type": "markdown",
      "metadata": {
        "id": "O-lX8U651HS3"
      },
      "source": [
        "### Experiment 1: Optimisers - RMSProp"
      ]
    },
    {
      "cell_type": "markdown",
      "metadata": {
        "id": "ANRU_8vVcq3m"
      },
      "source": [
        "The first experiment will investigate whether the *Adam* function, as used in the Base Model, is the best optimizer function for this project.\n",
        "\n",
        "The *RMSProp* function will be investigated first."
      ]
    },
    {
      "cell_type": "code",
      "metadata": {
        "id": "M7XdCD7V1dsX"
      },
      "source": [
        "rmsprop_model = Sequential()\n",
        "\n",
        "rmsprop_model.add(Embedding(num_words, 128))\n",
        "rmsprop_model.add(Dropout(0.4))\n",
        "rmsprop_model.add(Conv1D(128, 7, padding=\"valid\", activation=\"relu\", strides=3))\n",
        "rmsprop_model.add(Conv1D(128, 7, padding=\"valid\", activation=\"relu\", strides=3))\n",
        "rmsprop_model.add(GlobalMaxPooling1D())\n",
        "rmsprop_model.add(Dense(128, activation=\"relu\"))\n",
        "rmsprop_model.add(Dropout(0.5))\n",
        "rmsprop_model.add(Dense(6, activation='sigmoid'))\n",
        "\n",
        "rmsprop_model.compile(loss='binary_crossentropy',\n",
        "            optimizer=\"RMSprop\",\n",
        "            metrics=['accuracy'])"
      ],
      "execution_count": 34,
      "outputs": []
    },
    {
      "cell_type": "code",
      "metadata": {
        "colab": {
          "base_uri": "https://localhost:8080/"
        },
        "id": "wmYoDyA32GXp",
        "outputId": "a644c67d-cde3-4413-ffef-e502b4d3dc56"
      },
      "source": [
        "rmsprop_model.fit(x_train,y_train, epochs=EPOCHS, batch_size=60,  validation_data=(x_val, y_val))"
      ],
      "execution_count": 35,
      "outputs": [
        {
          "output_type": "stream",
          "text": [
            "Epoch 1/15\n",
            "96/96 [==============================] - 17s 172ms/step - loss: 0.5880 - accuracy: 0.3087 - val_loss: 0.3001 - val_accuracy: 0.2027\n",
            "Epoch 2/15\n",
            "96/96 [==============================] - 16s 171ms/step - loss: 0.4328 - accuracy: 0.4031 - val_loss: 0.2229 - val_accuracy: 0.2195\n",
            "Epoch 3/15\n",
            "96/96 [==============================] - 16s 168ms/step - loss: 0.3792 - accuracy: 0.4726 - val_loss: 0.2546 - val_accuracy: 0.2132\n",
            "Epoch 4/15\n",
            "96/96 [==============================] - 16s 168ms/step - loss: 0.3605 - accuracy: 0.5071 - val_loss: 0.2501 - val_accuracy: 0.2293\n",
            "Epoch 5/15\n",
            "96/96 [==============================] - 16s 167ms/step - loss: 0.3454 - accuracy: 0.5348 - val_loss: 0.2708 - val_accuracy: 0.2090\n",
            "Epoch 6/15\n",
            "96/96 [==============================] - 16s 168ms/step - loss: 0.3273 - accuracy: 0.5253 - val_loss: 0.2594 - val_accuracy: 0.2118\n",
            "Epoch 7/15\n",
            "96/96 [==============================] - 16s 167ms/step - loss: 0.3067 - accuracy: 0.5338 - val_loss: 0.3161 - val_accuracy: 0.2482\n",
            "Epoch 8/15\n",
            "96/96 [==============================] - 16s 167ms/step - loss: 0.2961 - accuracy: 0.5527 - val_loss: 0.3174 - val_accuracy: 0.2286\n",
            "Epoch 9/15\n",
            "96/96 [==============================] - 16s 168ms/step - loss: 0.2809 - accuracy: 0.5652 - val_loss: 0.3147 - val_accuracy: 0.2265\n",
            "Epoch 10/15\n",
            "96/96 [==============================] - 16s 168ms/step - loss: 0.2657 - accuracy: 0.5808 - val_loss: 0.3518 - val_accuracy: 0.2293\n",
            "Epoch 11/15\n",
            "96/96 [==============================] - 16s 164ms/step - loss: 0.2528 - accuracy: 0.5763 - val_loss: 0.3325 - val_accuracy: 0.2083\n",
            "Epoch 12/15\n",
            "96/96 [==============================] - 16s 170ms/step - loss: 0.2394 - accuracy: 0.5666 - val_loss: 0.4147 - val_accuracy: 0.2251\n",
            "Epoch 13/15\n",
            "96/96 [==============================] - 16s 168ms/step - loss: 0.2321 - accuracy: 0.5651 - val_loss: 0.3761 - val_accuracy: 0.2104\n",
            "Epoch 14/15\n",
            "96/96 [==============================] - 16s 166ms/step - loss: 0.2159 - accuracy: 0.5328 - val_loss: 0.4214 - val_accuracy: 0.2146\n",
            "Epoch 15/15\n",
            "96/96 [==============================] - 16s 170ms/step - loss: 0.2014 - accuracy: 0.5525 - val_loss: 0.4908 - val_accuracy: 0.2321\n"
          ],
          "name": "stdout"
        },
        {
          "output_type": "execute_result",
          "data": {
            "text/plain": [
              "<tensorflow.python.keras.callbacks.History at 0x7f9128831bd0>"
            ]
          },
          "metadata": {
            "tags": []
          },
          "execution_count": 35
        }
      ]
    },
    {
      "cell_type": "code",
      "metadata": {
        "id": "OG88rD7U2pHB"
      },
      "source": [
        "precision, recall, average_precision_rms = calculate_metrics(rmsprop_model, X_te)"
      ],
      "execution_count": 36,
      "outputs": []
    },
    {
      "cell_type": "code",
      "metadata": {
        "id": "rQflzYjRNMQV"
      },
      "source": [
        "def plot_against_base(dict_values, base_label, curr_label):\n",
        "  fig, ax = plt.subplots()\n",
        "  ax.bar(x - width / 2, average_precision_base.values(), width, label=base_label)\n",
        "  ax.bar(x + width / 2, dict_values, width, label=curr_label)\n",
        "\n",
        "  title = \"{0} vs {1}\"\n",
        "  ax.set_ylabel('Precision scores')\n",
        "  ax.set_title(title.format(base_label, curr_label))\n",
        "  ax.set_xticks(x)\n",
        "  ax.set_xticklabels(LABELS)\n",
        "  ax.legend()\n",
        "\n",
        "  fig.tight_layout()\n",
        "\n",
        "  plt.show()"
      ],
      "execution_count": 37,
      "outputs": []
    },
    {
      "cell_type": "code",
      "metadata": {
        "colab": {
          "base_uri": "https://localhost:8080/",
          "height": 297
        },
        "id": "mCvO9HQAF3e5",
        "outputId": "8543f9e9-532c-4a8d-b94e-a045cf16346e"
      },
      "source": [
        "plot_against_base(average_precision_rms.values(), \"Adam\", \"RMSProp\")"
      ],
      "execution_count": 38,
      "outputs": [
        {
          "output_type": "display_data",
          "data": {
            "image/png": "[encoded data removed]",
            "text/plain": [
              "<Figure size 432x288 with 1 Axes>"
            ]
          },
          "metadata": {
            "tags": [],
            "needs_background": "light"
          }
        }
      ]
    },
    {
      "cell_type": "markdown",
      "metadata": {
        "id": "dMvxfyXWdF73"
      },
      "source": [
        "While the overall accuracy appears to remain the same as the Base Model, the RMSProp optimizer function appears to provide about the same average precision values in the most populous classes, at the cost of lower values in the least populous classes.\n",
        "\n",
        "Unless we were interested in extracting only one of the heads of this model, e.g. the *insult* or the *identity_hate* classification head, these results are overall worse, as the goal should be increasing the model's performance in its weakest areas."
      ]
    },
    {
      "cell_type": "code",
      "metadata": {
        "id": "vgM1kcKs28-L"
      },
      "source": [
        "rmsprop_model.save('models/RMSProp_model.h5')"
      ],
      "execution_count": 39,
      "outputs": []
    },
    {
      "cell_type": "markdown",
      "metadata": {
        "id": "o26nm-te3Tqf"
      },
      "source": [
        "### Experiment 1: Optimisers - Nadam"
      ]
    },
    {
      "cell_type": "markdown",
      "metadata": {
        "id": "bm1lZlMceAO1"
      },
      "source": [
        "The second optimizer I have chosen to experiment with is the *Nadam* optimizer function."
      ]
    },
    {
      "cell_type": "code",
      "metadata": {
        "id": "ahSv2bUz3hJE"
      },
      "source": [
        "nadam_model = Sequential()\n",
        "\n",
        "nadam_model.add(Embedding(num_words, 128))\n",
        "nadam_model.add(Dropout(0.4))\n",
        "nadam_model.add(Conv1D(128, 7, padding=\"valid\", activation=\"relu\", strides=3))\n",
        "nadam_model.add(Conv1D(128, 7, padding=\"valid\", activation=\"relu\", strides=3))\n",
        "nadam_model.add(GlobalMaxPooling1D())\n",
        "nadam_model.add(Dense(128, activation=\"relu\"))\n",
        "nadam_model.add(Dropout(0.5))\n",
        "nadam_model.add(Dense(6, activation='sigmoid'))\n",
        "\n",
        "nadam_model.compile(loss='binary_crossentropy',\n",
        "            optimizer=\"Nadam\",\n",
        "            metrics=['accuracy'])"
      ],
      "execution_count": 40,
      "outputs": []
    },
    {
      "cell_type": "code",
      "metadata": {
        "colab": {
          "base_uri": "https://localhost:8080/"
        },
        "id": "2X4lQhqU33dT",
        "outputId": "53cf9e19-a91f-4ad0-f19c-a63cc8dce2e6"
      },
      "source": [
        "nadam_model.fit(x_train,y_train, epochs=EPOCHS, batch_size=60,  validation_data=(x_val, y_val))"
      ],
      "execution_count": 41,
      "outputs": [
        {
          "output_type": "stream",
          "text": [
            "Epoch 1/15\n",
            "96/96 [==============================] - 19s 184ms/step - loss: 0.6003 - accuracy: 0.2261 - val_loss: 0.1985 - val_accuracy: 0.0217\n",
            "Epoch 2/15\n",
            "96/96 [==============================] - 18s 183ms/step - loss: 0.4227 - accuracy: 0.4481 - val_loss: 0.2594 - val_accuracy: 0.2223\n",
            "Epoch 3/15\n",
            "96/96 [==============================] - 17s 175ms/step - loss: 0.3690 - accuracy: 0.4972 - val_loss: 0.2955 - val_accuracy: 0.2391\n",
            "Epoch 4/15\n",
            "96/96 [==============================] - 17s 182ms/step - loss: 0.3384 - accuracy: 0.5060 - val_loss: 0.2749 - val_accuracy: 0.2195\n",
            "Epoch 5/15\n",
            "96/96 [==============================] - 17s 178ms/step - loss: 0.3260 - accuracy: 0.5419 - val_loss: 0.2666 - val_accuracy: 0.2034\n",
            "Epoch 6/15\n",
            "96/96 [==============================] - 17s 182ms/step - loss: 0.3178 - accuracy: 0.5511 - val_loss: 0.4086 - val_accuracy: 0.2363\n",
            "Epoch 7/15\n",
            "96/96 [==============================] - 17s 179ms/step - loss: 0.3024 - accuracy: 0.5655 - val_loss: 0.3081 - val_accuracy: 0.2041\n",
            "Epoch 8/15\n",
            "96/96 [==============================] - 17s 180ms/step - loss: 0.2836 - accuracy: 0.5569 - val_loss: 0.3320 - val_accuracy: 0.1964\n",
            "Epoch 9/15\n",
            "96/96 [==============================] - 17s 181ms/step - loss: 0.2626 - accuracy: 0.5572 - val_loss: 0.3380 - val_accuracy: 0.2097\n",
            "Epoch 10/15\n",
            "96/96 [==============================] - 17s 179ms/step - loss: 0.2486 - accuracy: 0.5694 - val_loss: 0.3887 - val_accuracy: 0.2188\n",
            "Epoch 11/15\n",
            "96/96 [==============================] - 17s 179ms/step - loss: 0.2370 - accuracy: 0.5728 - val_loss: 0.4050 - val_accuracy: 0.2027\n",
            "Epoch 12/15\n",
            "96/96 [==============================] - 17s 180ms/step - loss: 0.2238 - accuracy: 0.5555 - val_loss: 0.4290 - val_accuracy: 0.2139\n",
            "Epoch 13/15\n",
            "96/96 [==============================] - 17s 180ms/step - loss: 0.2074 - accuracy: 0.5333 - val_loss: 0.4613 - val_accuracy: 0.2265\n",
            "Epoch 14/15\n",
            "96/96 [==============================] - 17s 179ms/step - loss: 0.2122 - accuracy: 0.5286 - val_loss: 0.4038 - val_accuracy: 0.2188\n",
            "Epoch 15/15\n",
            "96/96 [==============================] - 17s 177ms/step - loss: 0.1990 - accuracy: 0.5160 - val_loss: 0.4334 - val_accuracy: 0.1879\n"
          ],
          "name": "stdout"
        },
        {
          "output_type": "execute_result",
          "data": {
            "text/plain": [
              "<tensorflow.python.keras.callbacks.History at 0x7f91211d78d0>"
            ]
          },
          "metadata": {
            "tags": []
          },
          "execution_count": 41
        }
      ]
    },
    {
      "cell_type": "code",
      "metadata": {
        "id": "8SdS3VqO7Ryz"
      },
      "source": [
        "precision, recall, average_precision_nadam = calculate_metrics(nadam_model, X_te)"
      ],
      "execution_count": 42,
      "outputs": []
    },
    {
      "cell_type": "code",
      "metadata": {
        "colab": {
          "base_uri": "https://localhost:8080/",
          "height": 297
        },
        "id": "Mx5UruUMCydN",
        "outputId": "2b7c4a5e-0bbf-4493-d981-221b6aa9224e"
      },
      "source": [
        "plot_against_base(average_precision_nadam.values(), \"Adam\", \"Nadam\")"
      ],
      "execution_count": 43,
      "outputs": [
        {
          "output_type": "display_data",
          "data": {
            "image/png": "[encoded data removed]",
            "text/plain": [
              "<Figure size 432x288 with 1 Axes>"
            ]
          },
          "metadata": {
            "tags": [],
            "needs_background": "light"
          }
        }
      ]
    },
    {
      "cell_type": "markdown",
      "metadata": {
        "id": "Bb7T80TteJ6n"
      },
      "source": [
        "These precision scores seem to indicate that the highs of the *RMSProp* and *Binary Cross-Entropy* functions have been retained with *Nadam*, without incurring the cost of lowered performance in the least populous classes. Instead, it appears that performance has generally increased in these classes, with an increase to 13% in the most troublesome class, *threat*.\n",
        "\n",
        "These results show that *Nadam* surpasses both the *Adam* and *RMSProp* functions, as the superior optimizer function choice. "
      ]
    },
    {
      "cell_type": "code",
      "metadata": {
        "id": "Xf5KM_Jm7VTW"
      },
      "source": [
        "nadam_model.save('models/Nadam_model.h5')"
      ],
      "execution_count": 44,
      "outputs": []
    },
    {
      "cell_type": "markdown",
      "metadata": {
        "id": "agqKN8a87bo_"
      },
      "source": [
        "### Experiment 2: Loss Functions - Categorical Crossentropy"
      ]
    },
    {
      "cell_type": "markdown",
      "metadata": {
        "id": "ALHPx890e67X"
      },
      "source": [
        "In this series of experiments, I opted to look into the original choice of *Binary Cross-Entropy* as the Base Model's loss function. As the name would suggest, *Binary Cross-Entropy* is a loss function intended for use in models with the goal of binary classification. However, as observed in the Base Model Results section, a model with this loss function can provide relatively precise results, even when implemented in a multi-class classification problem such as ours.\n",
        "\n",
        "With these experiments, my aim is to investigate whether the unintuitive choice of *Binary Cross-Entropy* is also the best choice of loss function for this project.\n",
        "\n",
        "Finally, it should be noted that for this and all following experiments, I have chosen to not use any previous findings of better model design choices. I have instead reverted all design choices that are not relevant to the current experiment to be equal to the choices made in the Base Model. This is in order to be able to accurately compare the results of each experiment with all other experiments' results. It is not feasible, within the scope of this project, to experiment with all permutations of models with the best results in each experiment to see which combination of design choices provides the best results. For this reason, I opted to compare all experiment results to each other accurately, and provide the best single model design choice change from the Base Model to my team."
      ]
    },
    {
      "cell_type": "code",
      "metadata": {
        "id": "Hf6vraYI7720"
      },
      "source": [
        "cat_cross_model = Sequential()\n",
        "\n",
        "cat_cross_model.add(Embedding(num_words, 128))\n",
        "cat_cross_model.add(Dropout(0.4))\n",
        "cat_cross_model.add(Conv1D(128, 7, padding=\"valid\", activation=\"relu\", strides=3))\n",
        "cat_cross_model.add(Conv1D(128, 7, padding=\"valid\", activation=\"relu\", strides=3))\n",
        "cat_cross_model.add(GlobalMaxPooling1D())\n",
        "cat_cross_model.add(Dense(128, activation=\"relu\"))\n",
        "cat_cross_model.add(Dropout(0.5))\n",
        "cat_cross_model.add(Dense(6, activation='sigmoid'))\n",
        "\n",
        "cat_cross_model.compile(loss='categorical_crossentropy',\n",
        "            optimizer=adam,\n",
        "            metrics=['accuracy'])"
      ],
      "execution_count": 45,
      "outputs": []
    },
    {
      "cell_type": "code",
      "metadata": {
        "colab": {
          "base_uri": "https://localhost:8080/"
        },
        "id": "fmKS-DCE8H0M",
        "outputId": "95b99c19-1af1-47f7-de22-81a6177f7bb9"
      },
      "source": [
        "cat_cross_model.fit(x_train,y_train, epochs=EPOCHS, batch_size=60,  validation_data=(x_val, y_val))"
      ],
      "execution_count": 46,
      "outputs": [
        {
          "output_type": "stream",
          "text": [
            "Epoch 1/15\n",
            "96/96 [==============================] - 19s 191ms/step - loss: 142444.5053 - accuracy: 0.2730 - val_loss: 65623.2500 - val_accuracy: 0.9944\n",
            "Epoch 2/15\n",
            "96/96 [==============================] - 18s 183ms/step - loss: 10343096.3222 - accuracy: 0.2479 - val_loss: 883108.8750 - val_accuracy: 0.9944\n",
            "Epoch 3/15\n",
            "96/96 [==============================] - 18s 186ms/step - loss: 64485142.1031 - accuracy: 0.2640 - val_loss: 4347637.0000 - val_accuracy: 0.9944\n",
            "Epoch 4/15\n",
            "96/96 [==============================] - 18s 186ms/step - loss: 163237174.7629 - accuracy: 0.2758 - val_loss: 8458580.0000 - val_accuracy: 0.9944\n",
            "Epoch 5/15\n",
            "96/96 [==============================] - 18s 187ms/step - loss: 270228954.5567 - accuracy: 0.2658 - val_loss: 13885460.0000 - val_accuracy: 0.9944\n",
            "Epoch 6/15\n",
            "96/96 [==============================] - 18s 189ms/step - loss: 353428043.2165 - accuracy: 0.2651 - val_loss: 16153337.0000 - val_accuracy: 0.0042\n",
            "Epoch 7/15\n",
            "96/96 [==============================] - 18s 187ms/step - loss: 365482198.4330 - accuracy: 0.2468 - val_loss: 19508496.0000 - val_accuracy: 0.0014\n",
            "Epoch 8/15\n",
            "96/96 [==============================] - 18s 187ms/step - loss: 357500163.2990 - accuracy: 0.2389 - val_loss: 22254080.0000 - val_accuracy: 0.0014\n",
            "Epoch 9/15\n",
            "96/96 [==============================] - 18s 183ms/step - loss: 466435616.3299 - accuracy: 0.2598 - val_loss: 26341428.0000 - val_accuracy: 0.0042\n",
            "Epoch 10/15\n",
            "96/96 [==============================] - 18s 183ms/step - loss: 503575198.6804 - accuracy: 0.2495 - val_loss: 25643626.0000 - val_accuracy: 0.0042\n",
            "Epoch 11/15\n",
            "96/96 [==============================] - 18s 187ms/step - loss: 599642320.4948 - accuracy: 0.2446 - val_loss: 35191084.0000 - val_accuracy: 0.0014\n",
            "Epoch 12/15\n",
            "96/96 [==============================] - 18s 188ms/step - loss: 608280723.4639 - accuracy: 0.2400 - val_loss: 32828434.0000 - val_accuracy: 0.0042\n",
            "Epoch 13/15\n",
            "96/96 [==============================] - 18s 188ms/step - loss: 605867771.3814 - accuracy: 0.2386 - val_loss: 24779042.0000 - val_accuracy: 0.0014\n",
            "Epoch 14/15\n",
            "96/96 [==============================] - 18s 188ms/step - loss: 526154358.1031 - accuracy: 0.2411 - val_loss: 19062888.0000 - val_accuracy: 0.9944\n",
            "Epoch 15/15\n",
            "96/96 [==============================] - 18s 188ms/step - loss: 459555606.4330 - accuracy: 0.2623 - val_loss: 13475047.0000 - val_accuracy: 0.9944\n"
          ],
          "name": "stdout"
        },
        {
          "output_type": "execute_result",
          "data": {
            "text/plain": [
              "<tensorflow.python.keras.callbacks.History at 0x7f9127e4cbd0>"
            ]
          },
          "metadata": {
            "tags": []
          },
          "execution_count": 46
        }
      ]
    },
    {
      "cell_type": "markdown",
      "metadata": {
        "id": "OQMIkwP0R59q"
      },
      "source": [
        "As can be seen here, the loss skyrockets when using *Categorical Cross-Entropy*. After performing additional research, the reason this occurs is that we have 6 possible hot classes, so *Categorical Cross-Entropy* does not apply in the case of  multi-class problems, only in multi-label classification problems. Since this choice of loss function is not applicable, I have performed another experiment with a loss function that can produce accurate results with our model.\n",
        "\n",
        "I did not cut this experiment altogether, however, as I find it interesting that in spite of the loss being basically unusable for the model, it was still somehow able to learn something instead of randomly guessing, as seen in the evaluation below:"
      ]
    },
    {
      "cell_type": "code",
      "metadata": {
        "id": "48lvXbBL8bWP"
      },
      "source": [
        "precision, recall, average_precision_cat = calculate_metrics(cat_cross_model, X_te)"
      ],
      "execution_count": 47,
      "outputs": []
    },
    {
      "cell_type": "code",
      "metadata": {
        "colab": {
          "base_uri": "https://localhost:8080/",
          "height": 297
        },
        "id": "MA5Oa5Jt9J8J",
        "outputId": "842d104d-4c76-498a-b351-10d79995fa70"
      },
      "source": [
        "plot_against_base(average_precision_cat.values(), \"Binary\", \"Categorical\")"
      ],
      "execution_count": 48,
      "outputs": [
        {
          "output_type": "display_data",
          "data": {
            "image/png": "[encoded data removed]",
            "text/plain": [
              "<Figure size 432x288 with 1 Axes>"
            ]
          },
          "metadata": {
            "tags": [],
            "needs_background": "light"
          }
        }
      ]
    },
    {
      "cell_type": "markdown",
      "metadata": {
        "id": "1nuRlwE4W0mP"
      },
      "source": [
        "Obviously, when compared to a loss function that is fit to task, the *Categorical Cross-Entropy* loss function cannot match the level of precision. \n",
        "However, it is interesting to observe that the model was indeed learning through some mechanism, which is something that can be verified in two ways: Firstly, the average accuracy of the model is ~25%, which is much higher than one would get by randomly guessing 1 of the 30 possible permutations of 6 binary digits can take. Secondly, the relative average precision of each class is very close to the same for the *Binary Cross-Entropy* model. As this spread of average precisions in the Base Model is due to the dataset's class-balancing, we can see that this *Categorical Cross-Entropy* model was indeed learning from the data as well."
      ]
    },
    {
      "cell_type": "markdown",
      "metadata": {
        "id": "h-xe8bjg8oky"
      },
      "source": [
        "### Experiment 2: Loss Functions - Poisson"
      ]
    },
    {
      "cell_type": "code",
      "metadata": {
        "id": "YrVwJorA9HwL"
      },
      "source": [
        "psn_model = Sequential()\n",
        "\n",
        "psn_model.add(Embedding(num_words, 128))\n",
        "psn_model.add(Dropout(0.4))\n",
        "psn_model.add(Conv1D(128, 7, padding=\"valid\", activation=\"relu\", strides=3))\n",
        "psn_model.add(Conv1D(128, 7, padding=\"valid\", activation=\"relu\", strides=3))\n",
        "psn_model.add(GlobalMaxPooling1D())\n",
        "psn_model.add(Dense(128, activation=\"relu\"))\n",
        "psn_model.add(Dropout(0.5))\n",
        "psn_model.add(Dense(6, activation='sigmoid'))\n",
        "\n",
        "psn_model.compile(loss='poisson',\n",
        "            optimizer=adam,\n",
        "            metrics=['accuracy'])"
      ],
      "execution_count": 49,
      "outputs": []
    },
    {
      "cell_type": "code",
      "metadata": {
        "colab": {
          "base_uri": "https://localhost:8080/"
        },
        "id": "yGv5YJvV9Wgp",
        "outputId": "7c931f60-7213-409d-fb3b-157d9dfa97d9"
      },
      "source": [
        "psn_model.fit(x_train,y_train, epochs=EPOCHS, batch_size=60,  validation_data=(x_val, y_val))"
      ],
      "execution_count": 50,
      "outputs": [
        {
          "output_type": "stream",
          "text": [
            "Epoch 1/15\n",
            "96/96 [==============================] - 19s 189ms/step - loss: 0.6610 - accuracy: 0.3078 - val_loss: 0.2055 - val_accuracy: 0.2111\n",
            "Epoch 2/15\n",
            "96/96 [==============================] - 18s 184ms/step - loss: 0.5615 - accuracy: 0.3423 - val_loss: 0.1980 - val_accuracy: 0.2125\n",
            "Epoch 3/15\n",
            "96/96 [==============================] - 18s 189ms/step - loss: 0.5406 - accuracy: 0.4276 - val_loss: 0.2041 - val_accuracy: 0.2048\n",
            "Epoch 4/15\n",
            "96/96 [==============================] - 18s 186ms/step - loss: 0.5186 - accuracy: 0.4585 - val_loss: 0.2178 - val_accuracy: 0.2041\n",
            "Epoch 5/15\n",
            "96/96 [==============================] - 18s 186ms/step - loss: 0.5102 - accuracy: 0.5188 - val_loss: 0.2189 - val_accuracy: 0.1992\n",
            "Epoch 6/15\n",
            "96/96 [==============================] - 18s 186ms/step - loss: 0.5085 - accuracy: 0.5225 - val_loss: 0.2321 - val_accuracy: 0.1985\n",
            "Epoch 7/15\n",
            "96/96 [==============================] - 18s 187ms/step - loss: 0.5047 - accuracy: 0.5331 - val_loss: 0.2454 - val_accuracy: 0.2216\n",
            "Epoch 8/15\n",
            "96/96 [==============================] - 18s 184ms/step - loss: 0.4808 - accuracy: 0.5389 - val_loss: 0.2499 - val_accuracy: 0.2272\n",
            "Epoch 9/15\n",
            "96/96 [==============================] - 18s 186ms/step - loss: 0.4842 - accuracy: 0.5657 - val_loss: 0.2489 - val_accuracy: 0.2181\n",
            "Epoch 10/15\n",
            "96/96 [==============================] - 18s 188ms/step - loss: 0.4784 - accuracy: 0.5733 - val_loss: 0.2583 - val_accuracy: 0.2258\n",
            "Epoch 11/15\n",
            "96/96 [==============================] - 18s 192ms/step - loss: 0.4753 - accuracy: 0.5631 - val_loss: 0.2594 - val_accuracy: 0.2167\n",
            "Epoch 12/15\n",
            "96/96 [==============================] - 18s 187ms/step - loss: 0.4638 - accuracy: 0.5729 - val_loss: 0.2654 - val_accuracy: 0.2153\n",
            "Epoch 13/15\n",
            "96/96 [==============================] - 18s 188ms/step - loss: 0.4650 - accuracy: 0.5662 - val_loss: 0.2733 - val_accuracy: 0.2195\n",
            "Epoch 14/15\n",
            "96/96 [==============================] - 18s 184ms/step - loss: 0.4659 - accuracy: 0.5720 - val_loss: 0.2753 - val_accuracy: 0.2111\n",
            "Epoch 15/15\n",
            "96/96 [==============================] - 18s 184ms/step - loss: 0.4459 - accuracy: 0.5507 - val_loss: 0.2788 - val_accuracy: 0.2153\n"
          ],
          "name": "stdout"
        },
        {
          "output_type": "execute_result",
          "data": {
            "text/plain": [
              "<tensorflow.python.keras.callbacks.History at 0x7f9128036990>"
            ]
          },
          "metadata": {
            "tags": []
          },
          "execution_count": 50
        }
      ]
    },
    {
      "cell_type": "code",
      "metadata": {
        "id": "gz_smf1h9ax2"
      },
      "source": [
        "precision, recall, average_precision_psn = calculate_metrics(psn_model, X_te)"
      ],
      "execution_count": 51,
      "outputs": []
    },
    {
      "cell_type": "code",
      "metadata": {
        "colab": {
          "base_uri": "https://localhost:8080/",
          "height": 297
        },
        "id": "qPWhGpGb9dpW",
        "outputId": "d366f6cc-72ea-42f6-a942-b21160bdce07"
      },
      "source": [
        "plot_against_base(average_precision_psn.values(), \"Binary Cross-Entropy\", \"Poisson\")"
      ],
      "execution_count": 52,
      "outputs": [
        {
          "output_type": "display_data",
          "data": {
            "image/png": "[encoded data removed]",
            "text/plain": [
              "<Figure size 432x288 with 1 Axes>"
            ]
          },
          "metadata": {
            "tags": [],
            "needs_background": "light"
          }
        }
      ]
    },
    {
      "cell_type": "markdown",
      "metadata": {
        "id": "AjDXE_40hw5w"
      },
      "source": [
        "Looking at the chart, with only the exception of the *identity_hate* class, the model using the *Poisson* loss function is an increase in all classes. The *threat* class's precision score specifically has increased to over 20% from 10%.\n",
        "\n",
        "It is apparent that the *Poisson* loss function is more suited to this project than the *Binary Cross-Entropy* loss function."
      ]
    },
    {
      "cell_type": "code",
      "metadata": {
        "id": "pTLMZ_aF9gRl"
      },
      "source": [
        "psn_model.save('models/Poisson_model.h5')"
      ],
      "execution_count": 53,
      "outputs": []
    },
    {
      "cell_type": "markdown",
      "metadata": {
        "id": "Kml8CIR-9jjB"
      },
      "source": [
        "### Experiment 3: Activation Functions - Softmax"
      ]
    },
    {
      "cell_type": "markdown",
      "metadata": {
        "id": "8sw0b9cTiKBj"
      },
      "source": [
        "For this experiment, I decided to investigate the effect of an often overlooked design choice, the output activation function. This choice is usually defaulted to the *sigmoid* function in most if not all basic approaches using CNNs. The aim of this experiment is to prove or disprove that collective empirical wisdom in the case of our approach to this dataset.\n",
        "\n",
        "For this first experiment with this setup, I chose the *softmax* function, as it appears to be the second most popular output activation function choice, although it is much less popular than the *sigmoid* function."
      ]
    },
    {
      "cell_type": "code",
      "metadata": {
        "id": "Ca-X0TO9-Ha9"
      },
      "source": [
        "softmax_model = Sequential()\n",
        "\n",
        "softmax_model.add(Embedding(num_words, 128))\n",
        "softmax_model.add(Dropout(0.4))\n",
        "softmax_model.add(Conv1D(128, 7, padding=\"valid\", activation=\"relu\", strides=3))\n",
        "softmax_model.add(Conv1D(128, 7, padding=\"valid\", activation=\"relu\", strides=3))\n",
        "softmax_model.add(GlobalMaxPooling1D())\n",
        "softmax_model.add(Dense(128, activation=\"relu\"))\n",
        "softmax_model.add(Dropout(0.5))\n",
        "softmax_model.add(Dense(6, activation='softmax'))\n",
        "\n",
        "softmax_model.compile(loss='binary_crossentropy',\n",
        "            optimizer=adam,\n",
        "            metrics=['accuracy'])"
      ],
      "execution_count": 54,
      "outputs": []
    },
    {
      "cell_type": "code",
      "metadata": {
        "colab": {
          "base_uri": "https://localhost:8080/"
        },
        "id": "S0d5ZynR-Zi7",
        "outputId": "23957812-3b40-4701-96b3-e47ec2d7eb1e"
      },
      "source": [
        "softmax_model.fit(x_train,y_train, epochs=EPOCHS, batch_size=60,  validation_data=(x_val, y_val))"
      ],
      "execution_count": 55,
      "outputs": [
        {
          "output_type": "stream",
          "text": [
            "Epoch 1/15\n",
            "96/96 [==============================] - 19s 186ms/step - loss: 0.5548 - accuracy: 0.3728 - val_loss: 0.2487 - val_accuracy: 0.2111\n",
            "Epoch 2/15\n",
            "96/96 [==============================] - 18s 184ms/step - loss: 0.3833 - accuracy: 0.4547 - val_loss: 0.2618 - val_accuracy: 0.2328\n",
            "Epoch 3/15\n",
            "96/96 [==============================] - 18s 186ms/step - loss: 0.3388 - accuracy: 0.5537 - val_loss: 0.2571 - val_accuracy: 0.1978\n",
            "Epoch 4/15\n",
            "96/96 [==============================] - 18s 188ms/step - loss: 0.3158 - accuracy: 0.5557 - val_loss: 0.3043 - val_accuracy: 0.2251\n",
            "Epoch 5/15\n",
            "96/96 [==============================] - 18s 188ms/step - loss: 0.3084 - accuracy: 0.5675 - val_loss: 0.3081 - val_accuracy: 0.2237\n",
            "Epoch 6/15\n",
            "96/96 [==============================] - 18s 184ms/step - loss: 0.2885 - accuracy: 0.5862 - val_loss: 0.3254 - val_accuracy: 0.2167\n",
            "Epoch 7/15\n",
            "96/96 [==============================] - 18s 183ms/step - loss: 0.2658 - accuracy: 0.5771 - val_loss: 0.3537 - val_accuracy: 0.2202\n",
            "Epoch 8/15\n",
            "96/96 [==============================] - 18s 190ms/step - loss: 0.2449 - accuracy: 0.5926 - val_loss: 0.3542 - val_accuracy: 0.2125\n",
            "Epoch 9/15\n",
            "96/96 [==============================] - 18s 186ms/step - loss: 0.2276 - accuracy: 0.5597 - val_loss: 0.4024 - val_accuracy: 0.2146\n",
            "Epoch 10/15\n",
            "96/96 [==============================] - 18s 185ms/step - loss: 0.2190 - accuracy: 0.5645 - val_loss: 0.3913 - val_accuracy: 0.2125\n",
            "Epoch 11/15\n",
            "96/96 [==============================] - 18s 189ms/step - loss: 0.1996 - accuracy: 0.5329 - val_loss: 0.3982 - val_accuracy: 0.1942\n",
            "Epoch 12/15\n",
            "96/96 [==============================] - 18s 184ms/step - loss: 0.2004 - accuracy: 0.5150 - val_loss: 0.4269 - val_accuracy: 0.2097\n",
            "Epoch 13/15\n",
            "96/96 [==============================] - 18s 185ms/step - loss: 0.1881 - accuracy: 0.5087 - val_loss: 0.4709 - val_accuracy: 0.2062\n",
            "Epoch 14/15\n",
            "96/96 [==============================] - 17s 182ms/step - loss: 0.1767 - accuracy: 0.4841 - val_loss: 0.4450 - val_accuracy: 0.2013\n",
            "Epoch 15/15\n",
            "96/96 [==============================] - 18s 184ms/step - loss: 0.1689 - accuracy: 0.4763 - val_loss: 0.4936 - val_accuracy: 0.2048\n"
          ],
          "name": "stdout"
        },
        {
          "output_type": "execute_result",
          "data": {
            "text/plain": [
              "<tensorflow.python.keras.callbacks.History at 0x7f91281b2390>"
            ]
          },
          "metadata": {
            "tags": []
          },
          "execution_count": 55
        }
      ]
    },
    {
      "cell_type": "code",
      "metadata": {
        "id": "jjAALmo--f4d"
      },
      "source": [
        "precision, recall, average_precision_softmax = calculate_metrics(softmax_model, X_te)"
      ],
      "execution_count": 56,
      "outputs": []
    },
    {
      "cell_type": "code",
      "metadata": {
        "colab": {
          "base_uri": "https://localhost:8080/",
          "height": 297
        },
        "id": "SJThs2hu-h4n",
        "outputId": "55ea9cc1-f60b-4543-dc96-b6ba60351a19"
      },
      "source": [
        "plot_against_base(average_precision_softmax.values(), \"Sigmoid\", \"Softmax\")"
      ],
      "execution_count": 57,
      "outputs": [
        {
          "output_type": "display_data",
          "data": {
            "image/png": "[encoded data removed]",
            "text/plain": [
              "<Figure size 432x288 with 1 Axes>"
            ]
          },
          "metadata": {
            "tags": [],
            "needs_background": "light"
          }
        }
      ]
    },
    {
      "cell_type": "markdown",
      "metadata": {
        "id": "0XZiLJHgjVVq"
      },
      "source": [
        "It appears these results are lower than the Base Model's results using the *sigmoid* function in most categories, with significant precision losses in all but the most popular class, *toxic*, which appears to remain relatively equal to the Base Model's results."
      ]
    },
    {
      "cell_type": "markdown",
      "metadata": {
        "id": "BO6OyE1Uj1q7"
      },
      "source": [
        "After deciding to look into the above results further, it appears that the above is the definitive reason that the *softmax* function is not applicable to this problem. When used as the output activation function, the output of the network can only add up to a maximum value of 1. When 6 output classes are used, such as in our project, the resulting predictions will all either round down to 0, making the model much more likely to predict a comment is non-toxic, or perhaps round up to 1 in a single class.\n",
        "\n",
        "Clearly, the *softmax* function is verifiably inferior to the *sigmoid* function when applied to multi-class classification problems."
      ]
    },
    {
      "cell_type": "code",
      "metadata": {
        "id": "yZe9fJn_EAuT",
        "colab": {
          "base_uri": "https://localhost:8080/"
        },
        "outputId": "927db4b4-5ddc-40f7-ff9a-24459ddbc936"
      },
      "source": [
        "y_pred = softmax_model.predict(X_te)\n",
        "y_pred = np.array(y_pred)\n",
        "y_pred = y_pred.astype(float)\n",
        "\n",
        "temp_index = 64\n",
        "\n",
        "print(\"Raw predictions:\")\n",
        "print(y_pred[temp_index])\n",
        "print(\"Rounded predictions:\")\n",
        "print(y_pred[temp_index].round())\n",
        "print(\"True:\")\n",
        "print(y_test[temp_index])"
      ],
      "execution_count": 58,
      "outputs": [
        {
          "output_type": "stream",
          "text": [
            "Raw predictions:\n",
            "[0.36423185 0.12406462 0.21773395 0.02477345 0.20900513 0.06019095]\n",
            "Rounded predictions:\n",
            "[0. 0. 0. 0. 0. 0.]\n",
            "True:\n",
            "[1 0 0 0 0 1]\n"
          ],
          "name": "stdout"
        }
      ]
    },
    {
      "cell_type": "markdown",
      "metadata": {
        "id": "5Y3Jr5jLYaIg"
      },
      "source": [
        "### Experiment 3: Activation Functions - Tanh"
      ]
    },
    {
      "cell_type": "code",
      "metadata": {
        "id": "ndxAsC-aYe63"
      },
      "source": [
        "tanh_model = Sequential()\n",
        "\n",
        "tanh_model.add(Embedding(num_words, 128))\n",
        "tanh_model.add(Dropout(0.4))\n",
        "tanh_model.add(Conv1D(128, 7, padding=\"valid\", activation=\"relu\", strides=3))\n",
        "tanh_model.add(Conv1D(128, 7, padding=\"valid\", activation=\"relu\", strides=3))\n",
        "tanh_model.add(GlobalMaxPooling1D())\n",
        "tanh_model.add(Dense(128, activation=\"relu\"))\n",
        "tanh_model.add(Dropout(0.5))\n",
        "tanh_model.add(Dense(6, activation='tanh'))\n",
        "\n",
        "tanh_model.compile(loss='binary_crossentropy',\n",
        "            optimizer=adam,\n",
        "            metrics=['accuracy'])"
      ],
      "execution_count": 59,
      "outputs": []
    },
    {
      "cell_type": "code",
      "metadata": {
        "colab": {
          "base_uri": "https://localhost:8080/"
        },
        "id": "vtMAjd-MYlcR",
        "outputId": "d3170bf5-d059-45a8-e538-92bafbfb11c2"
      },
      "source": [
        "tanh_model.fit(x_train,y_train, epochs=EPOCHS, batch_size=60,  validation_data=(x_val, y_val))"
      ],
      "execution_count": 60,
      "outputs": [
        {
          "output_type": "stream",
          "text": [
            "Epoch 1/15\n",
            "96/96 [==============================] - 19s 189ms/step - loss: 0.8655 - accuracy: 0.2714 - val_loss: 0.2173 - val_accuracy: 0.9306\n",
            "Epoch 2/15\n",
            "96/96 [==============================] - 18s 185ms/step - loss: 0.4911 - accuracy: 0.2896 - val_loss: 0.2830 - val_accuracy: 0.2518\n",
            "Epoch 3/15\n",
            "96/96 [==============================] - 18s 189ms/step - loss: 0.4715 - accuracy: 0.3974 - val_loss: 0.2783 - val_accuracy: 0.3254\n",
            "Epoch 4/15\n",
            "96/96 [==============================] - 18s 184ms/step - loss: 0.3988 - accuracy: 0.3888 - val_loss: 0.2603 - val_accuracy: 0.2539\n",
            "Epoch 5/15\n",
            "96/96 [==============================] - 18s 183ms/step - loss: 0.3701 - accuracy: 0.3884 - val_loss: 0.3055 - val_accuracy: 0.2272\n",
            "Epoch 6/15\n",
            "96/96 [==============================] - 18s 185ms/step - loss: 0.3607 - accuracy: 0.3963 - val_loss: 0.2438 - val_accuracy: 0.1788\n",
            "Epoch 7/15\n",
            "96/96 [==============================] - 18s 183ms/step - loss: 0.3425 - accuracy: 0.4134 - val_loss: 0.2875 - val_accuracy: 0.2174\n",
            "Epoch 8/15\n",
            "96/96 [==============================] - 18s 185ms/step - loss: 0.3218 - accuracy: 0.4754 - val_loss: 0.2904 - val_accuracy: 0.2083\n",
            "Epoch 9/15\n",
            "96/96 [==============================] - 18s 186ms/step - loss: 0.3255 - accuracy: 0.4962 - val_loss: 0.2973 - val_accuracy: 0.1957\n",
            "Epoch 10/15\n",
            "96/96 [==============================] - 18s 184ms/step - loss: 0.3066 - accuracy: 0.4714 - val_loss: 0.3127 - val_accuracy: 0.2223\n",
            "Epoch 11/15\n",
            "96/96 [==============================] - 18s 189ms/step - loss: 0.2870 - accuracy: 0.4500 - val_loss: 0.3063 - val_accuracy: 0.2013\n",
            "Epoch 12/15\n",
            "96/96 [==============================] - 18s 186ms/step - loss: 0.2631 - accuracy: 0.4417 - val_loss: 0.3260 - val_accuracy: 0.2069\n",
            "Epoch 13/15\n",
            "96/96 [==============================] - 18s 191ms/step - loss: 0.2565 - accuracy: 0.4642 - val_loss: 0.3467 - val_accuracy: 0.2181\n",
            "Epoch 14/15\n",
            "96/96 [==============================] - 18s 187ms/step - loss: 0.2579 - accuracy: 0.4733 - val_loss: 0.3347 - val_accuracy: 0.2027\n",
            "Epoch 15/15\n",
            "96/96 [==============================] - 17s 180ms/step - loss: 0.2524 - accuracy: 0.4722 - val_loss: 0.3245 - val_accuracy: 0.1985\n"
          ],
          "name": "stdout"
        },
        {
          "output_type": "execute_result",
          "data": {
            "text/plain": [
              "<tensorflow.python.keras.callbacks.History at 0x7f91285393d0>"
            ]
          },
          "metadata": {
            "tags": []
          },
          "execution_count": 60
        }
      ]
    },
    {
      "cell_type": "code",
      "metadata": {
        "id": "MEvHBIRXYn3K"
      },
      "source": [
        "precision, recall, average_precision_tanh = calculate_metrics(tanh_model, X_te)"
      ],
      "execution_count": 61,
      "outputs": []
    },
    {
      "cell_type": "code",
      "metadata": {
        "colab": {
          "base_uri": "https://localhost:8080/",
          "height": 297
        },
        "id": "O1YzMDxeYswQ",
        "outputId": "b2c03b59-85e9-412d-df9d-eb5ff04bbbc1"
      },
      "source": [
        "plot_against_base(average_precision_tanh.values(), \"Sigmoid\", \"Tanh\")"
      ],
      "execution_count": 62,
      "outputs": [
        {
          "output_type": "display_data",
          "data": {
            "image/png": "[encoded data removed]",
            "text/plain": [
              "<Figure size 432x288 with 1 Axes>"
            ]
          },
          "metadata": {
            "tags": [],
            "needs_background": "light"
          }
        }
      ]
    },
    {
      "cell_type": "markdown",
      "metadata": {
        "id": "b7ZiiFqFh3dj"
      },
      "source": [
        "When using the *tanh* output layer activation function, it seems that the model's precision on the more generically applicable functions such as *toxic* has decreased slightly, but major increases can be observed in almost all other classes.\n",
        "\n",
        "As the overall precision of the model appears to have increased significantly, the suggested output layer activation function seems to be *tanh* instead of the initial *sigmoid*."
      ]
    },
    {
      "cell_type": "code",
      "metadata": {
        "id": "cqJ3CGq7lGjK"
      },
      "source": [
        "tanh_model.save('models/Tanh_model.h5')"
      ],
      "execution_count": 73,
      "outputs": []
    },
    {
      "cell_type": "markdown",
      "metadata": {
        "id": "uOT-j1cs-sLD"
      },
      "source": [
        "### Experiment 4: Pretrained Word Embeddings"
      ]
    },
    {
      "cell_type": "markdown",
      "metadata": {
        "id": "DvDrGKIQk89d"
      },
      "source": [
        "For the final experiment setup, I chose the setup with the maximum likelihood of greatly increasing the performance of our model in all metrics. The approach here is to transfer pre-trained word embedding weights to our embedding layer, in order to avoid training these weights from scratch, while also training all other weights in the network at the same time.\n",
        "\n",
        "The weights used in this experiment were acquired here [https://nlp.stanford.edu/projects/glove/], using the smallest set of vectors, the 6B token version. This is due to file size constraints, as even the smallest set with the smallest dimensions is as large as 167 MB."
      ]
    },
    {
      "cell_type": "code",
      "metadata": {
        "colab": {
          "base_uri": "https://localhost:8080/"
        },
        "id": "7ciPCDBjmoNb",
        "outputId": "56e4e472-8b9d-4a2f-de73-e0fec2121389"
      },
      "source": [
        "# load the whole embedding into memory\n",
        "embeddings_index = dict()\n",
        "f = open('data/glove.6B.50d.txt')\n",
        "\n",
        "for line in f:\n",
        "    values = line.split()\n",
        "    word = values[0]\n",
        "    coefs = np.asarray(values[1:], dtype='float32')\n",
        "    embeddings_index[word] = coefs\n",
        "\n",
        "f.close()\n",
        "print('Loaded %s word vectors.' % len(embeddings_index))"
      ],
      "execution_count": 74,
      "outputs": [
        {
          "output_type": "stream",
          "text": [
            "Loaded 400000 word vectors.\n"
          ],
          "name": "stdout"
        }
      ]
    },
    {
      "cell_type": "markdown",
      "metadata": {
        "id": "Oron3GQ0mvhv"
      },
      "source": [
        "The first step in using these pretrained weights in our model, is to create an embedding matrix by mapping each word in our current corpus to it's matching embedding weight vector."
      ]
    },
    {
      "cell_type": "code",
      "metadata": {
        "colab": {
          "base_uri": "https://localhost:8080/"
        },
        "id": "-QzlOJrImP2m",
        "outputId": "9cd921bd-99d7-4572-a6d2-3cedafb1beeb"
      },
      "source": [
        "vocab_len = len(tokenizer.word_index) + 1\n",
        "\n",
        "# create a weight matrix for words in training docs\n",
        "embedding_matrix = np.zeros((vocab_len, 50))\n",
        "\n",
        "print(embedding_matrix.shape)\n",
        "\n",
        "for word, i in tokenizer.word_index.items():\n",
        "    embedding_vector = embeddings_index.get(word)\n",
        "    if embedding_vector is not None:\n",
        "        embedding_matrix[i] = embedding_vector"
      ],
      "execution_count": 64,
      "outputs": [
        {
          "output_type": "stream",
          "text": [
            "(23457, 50)\n"
          ],
          "name": "stdout"
        }
      ]
    },
    {
      "cell_type": "code",
      "metadata": {
        "id": "o7V9212__8R0"
      },
      "source": [
        "embed_model = Sequential()\n",
        "\n",
        "embed_model.add(Embedding(vocab_len,50,weights=[embedding_matrix],input_length=max_len,trainable=True))\n",
        "embed_model.add(Dropout(0.4))\n",
        "embed_model.add(Conv1D(128, 7, padding=\"valid\", activation=\"relu\", strides=3))\n",
        "embed_model.add(Conv1D(128, 7, padding=\"valid\", activation=\"relu\", strides=3))\n",
        "embed_model.add(GlobalMaxPooling1D())\n",
        "embed_model.add(Dense(128, activation=\"relu\"))\n",
        "embed_model.add(Dropout(0.5))\n",
        "embed_model.add(Dense(6, activation='sigmoid'))\n",
        "\n",
        "embed_model.compile(loss='binary_crossentropy',\n",
        "            optimizer=adam,\n",
        "            metrics=['accuracy'])"
      ],
      "execution_count": 65,
      "outputs": []
    },
    {
      "cell_type": "code",
      "metadata": {
        "colab": {
          "base_uri": "https://localhost:8080/"
        },
        "id": "m4W156-AACCP",
        "outputId": "336df98e-b5a8-4814-83ee-7d6239d5c596"
      },
      "source": [
        "embed_model.fit(x_train,y_train, epochs=EPOCHS, batch_size=60,  validation_data=(x_val, y_val))"
      ],
      "execution_count": 66,
      "outputs": [
        {
          "output_type": "stream",
          "text": [
            "Epoch 1/15\n",
            "96/96 [==============================] - 11s 101ms/step - loss: 0.5390 - accuracy: 0.3413 - val_loss: 0.3077 - val_accuracy: 0.2686\n",
            "Epoch 2/15\n",
            "96/96 [==============================] - 10s 101ms/step - loss: 0.4252 - accuracy: 0.4716 - val_loss: 0.2692 - val_accuracy: 0.2230\n",
            "Epoch 3/15\n",
            "96/96 [==============================] - 9s 99ms/step - loss: 0.3937 - accuracy: 0.4858 - val_loss: 0.2552 - val_accuracy: 0.2139\n",
            "Epoch 4/15\n",
            "96/96 [==============================] - 9s 99ms/step - loss: 0.3877 - accuracy: 0.5056 - val_loss: 0.2713 - val_accuracy: 0.2279\n",
            "Epoch 5/15\n",
            "96/96 [==============================] - 9s 96ms/step - loss: 0.3637 - accuracy: 0.4964 - val_loss: 0.2771 - val_accuracy: 0.2342\n",
            "Epoch 6/15\n",
            "96/96 [==============================] - 9s 97ms/step - loss: 0.3488 - accuracy: 0.5225 - val_loss: 0.2830 - val_accuracy: 0.2216\n",
            "Epoch 7/15\n",
            "96/96 [==============================] - 9s 99ms/step - loss: 0.3387 - accuracy: 0.5175 - val_loss: 0.2736 - val_accuracy: 0.2167\n",
            "Epoch 8/15\n",
            "96/96 [==============================] - 9s 98ms/step - loss: 0.3303 - accuracy: 0.5282 - val_loss: 0.2748 - val_accuracy: 0.2132\n",
            "Epoch 9/15\n",
            "96/96 [==============================] - 9s 96ms/step - loss: 0.3214 - accuracy: 0.5212 - val_loss: 0.2707 - val_accuracy: 0.2097\n",
            "Epoch 10/15\n",
            "96/96 [==============================] - 9s 96ms/step - loss: 0.3118 - accuracy: 0.5264 - val_loss: 0.2835 - val_accuracy: 0.2097\n",
            "Epoch 11/15\n",
            "96/96 [==============================] - 10s 100ms/step - loss: 0.3074 - accuracy: 0.5341 - val_loss: 0.2903 - val_accuracy: 0.2104\n",
            "Epoch 12/15\n",
            "96/96 [==============================] - 10s 99ms/step - loss: 0.2981 - accuracy: 0.5398 - val_loss: 0.2941 - val_accuracy: 0.2230\n",
            "Epoch 13/15\n",
            "96/96 [==============================] - 9s 97ms/step - loss: 0.2962 - accuracy: 0.5524 - val_loss: 0.2860 - val_accuracy: 0.2153\n",
            "Epoch 14/15\n",
            "96/96 [==============================] - 9s 96ms/step - loss: 0.2895 - accuracy: 0.5416 - val_loss: 0.2808 - val_accuracy: 0.2167\n",
            "Epoch 15/15\n",
            "96/96 [==============================] - 9s 98ms/step - loss: 0.2789 - accuracy: 0.5456 - val_loss: 0.2923 - val_accuracy: 0.2125\n"
          ],
          "name": "stdout"
        },
        {
          "output_type": "execute_result",
          "data": {
            "text/plain": [
              "<tensorflow.python.keras.callbacks.History at 0x7f9128611190>"
            ]
          },
          "metadata": {
            "tags": []
          },
          "execution_count": 66
        }
      ]
    },
    {
      "cell_type": "code",
      "metadata": {
        "id": "-B3ewgl_AFh6"
      },
      "source": [
        "precision, recall, average_precision_embed = calculate_metrics(embed_model, X_te)"
      ],
      "execution_count": 67,
      "outputs": []
    },
    {
      "cell_type": "code",
      "metadata": {
        "colab": {
          "base_uri": "https://localhost:8080/",
          "height": 297
        },
        "id": "g8BiRQ8YAIPL",
        "outputId": "1ac84826-da43-4a15-9448-e6e4178f716b"
      },
      "source": [
        "plot_against_base(average_precision_embed.values(), \"Untrained\", \"Pre-trained\")"
      ],
      "execution_count": 68,
      "outputs": [
        {
          "output_type": "display_data",
          "data": {
            "image/png": "[encoded data removed]",
            "text/plain": [
              "<Figure size 432x288 with 1 Axes>"
            ]
          },
          "metadata": {
            "tags": [],
            "needs_background": "light"
          }
        }
      ]
    },
    {
      "cell_type": "markdown",
      "metadata": {
        "id": "M12rWUEO1lbf"
      },
      "source": [
        "Although the precision increases in each class were not as high as expected, it is clear to see that using pre-trained word embeddings increases the performance of the model across all classes, with the most major increases being seen in the least populous classes.\n",
        "\n",
        "These results are as expected, seeing as the biggest factor contributing to the low performance in these less-populated classes is that the network does not have enough data to train on such classes. When pre-trained weights are introduced, the amount of training the network needs to do as a base is massively reduced, so more quality learning can take place for these classes."
      ]
    },
    {
      "cell_type": "code",
      "metadata": {
        "id": "_To3T3IBALON"
      },
      "source": [
        "embed_model.save('models/Embed_model.h5')"
      ],
      "execution_count": 70,
      "outputs": []
    },
    {
      "cell_type": "markdown",
      "metadata": {
        "id": "ZlhFm9jHA_YD"
      },
      "source": [
        "### Conclusion"
      ]
    },
    {
      "cell_type": "markdown",
      "metadata": {
        "id": "9b21PcAEBZYi"
      },
      "source": [
        "In conclusion, each experiment setup achieved its goal of investigating alternative model design choices, with everything else equal. Where some experiments yielded worse results than the Base Model, these worse results can be used to inform future design decisions for the group implementation fo this project, as well as future projects using similar datasets and models.\n",
        "\n",
        "I believe that namely, the results of Experiment 2 and 4 are the most likely candidates of working together with everyone else's experimental findings, in order to increase the final model's performance in classifying toxic comments. These experiments showed that using pre-trained word embeddings as well as the *Nadam* optimizer should definitely improve our results for the group implementation.\n",
        "\n",
        "Finally, it is clear that, in future, anyone aiming to improve a similar model's performance in detecting toxic comments using the Toxic Comment Classification Challenge dataset should first focus on either increasing the quality of the less populated classes such as *threat*, or directly introducing *threat*-rated comments from the test dataset into the training dataset, to increase their amount. "
      ]
    }
  ]
}